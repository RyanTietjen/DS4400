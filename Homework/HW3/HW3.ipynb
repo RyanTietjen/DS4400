{
 "cells": [
  {
   "cell_type": "markdown",
   "id": "85d5e9cd",
   "metadata": {},
   "source": [
    "Professor Wu\n",
    "\n",
    "DS 4400: Machine Learning I\n",
    "\n",
    "Ryan Tietjen\n",
    "\n",
    "10/02/24\n",
    "\n",
    "**Assignment 3**"
   ]
  },
  {
   "cell_type": "markdown",
   "id": "65961f48",
   "metadata": {},
   "source": [
    "## Question 1. (10 points) In the data folder, find and load the 2 files\n",
    "stock_prediction_data.csv\n",
    "stock_price.csv\n",
    "\n",
    "This data predicts tomorrow’s stock price difference given the previous day’s data.\n",
    "1) Use Preprocessing on the data\n",
    "2) Perform regression on this dataset\\\n",
    "(a) Solve it with Sklearn library for linear regression.\\\n",
    "(b) Solve it by writing your own gradient descent algorithm in Python.\\\n",
    "(c) Solve it by writing your own closed-form solution in Python.\\\n",
    "(d) Print out the final total error for each method.\\\n",
    "(e) No need to include this portion in the homework, but do it for your own sanity check.\\\n",
    "• Print out the prediction of your function for every sample next to the true label\\\n",
    "• Compare them against the true labels. How good is your prediction?\\"
   ]
  },
  {
   "cell_type": "code",
   "execution_count": 1,
   "id": "1e3d4014",
   "metadata": {},
   "outputs": [],
   "source": [
    "from scipy.integrate import quad\n",
    "import numpy as np\n",
    "import matplotlib.pyplot as plt\n",
    "from numpy import hstack\n",
    "from numpy import genfromtxt\n",
    "from sklearn.model_selection import train_test_split\n",
    "from sklearn import preprocessing\n",
    "from numpy.random import randn\n",
    "from sklearn.linear_model import LinearRegression\n",
    "from sklearn.preprocessing import PolynomialFeatures"
   ]
  },
  {
   "cell_type": "markdown",
   "id": "696358a7",
   "metadata": {},
   "source": [
    "## Load Data & Perform Preprocessing"
   ]
  },
  {
   "cell_type": "code",
   "execution_count": 2,
   "id": "5581113b",
   "metadata": {},
   "outputs": [],
   "source": [
    "X = genfromtxt('stock_prediction_data_scaled.csv', delimiter = ',')\n",
    "y = genfromtxt('stock_price.csv', delimiter = ',')\n",
    "y = y.reshape(len(y), 1)"
   ]
  },
  {
   "cell_type": "code",
   "execution_count": 3,
   "id": "9a01b7e5",
   "metadata": {},
   "outputs": [],
   "source": [
    "X = preprocessing.scale(X)\n",
    "y = preprocessing.scale(y)"
   ]
  },
  {
   "cell_type": "code",
   "execution_count": 4,
   "id": "e5fe1dab",
   "metadata": {},
   "outputs": [],
   "source": [
    "def mse(y_true, y_pred):\n",
    "    return np.mean((y_true - y_pred) ** 2)\n"
   ]
  },
  {
   "cell_type": "markdown",
   "id": "76415e87",
   "metadata": {},
   "source": [
    "## (a) Solve with sklearn"
   ]
  },
  {
   "cell_type": "code",
   "execution_count": 5,
   "id": "600c097b",
   "metadata": {},
   "outputs": [],
   "source": [
    "reg = LinearRegression().fit(X, y)\n",
    "w = reg.coef_"
   ]
  },
  {
   "cell_type": "code",
   "execution_count": 6,
   "id": "e5da176c",
   "metadata": {},
   "outputs": [
    {
     "name": "stdout",
     "output_type": "stream",
     "text": [
      "MSE:  0.0008483577\n"
     ]
    }
   ],
   "source": [
    "print(\"MSE: \", np.round(mse(y, reg.predict(X)), 10))"
   ]
  },
  {
   "cell_type": "markdown",
   "id": "377b33bb",
   "metadata": {},
   "source": [
    "## (b) Solve with Gradient Descent"
   ]
  },
  {
   "cell_type": "code",
   "execution_count": 7,
   "id": "fa4e2247",
   "metadata": {},
   "outputs": [],
   "source": [
    "def f(w, X, y):\n",
    "    num = 0\n",
    "    n = X.shape[0]\n",
    "    d = X.shape[1]\n",
    "    for xi, yi in zip(X,y):\n",
    "        xi = np.reshape(xi, (d,1))\n",
    "        num += (w.T.dot(xi) - yi)**2\n",
    "    return (num / n).item()"
   ]
  },
  {
   "cell_type": "code",
   "execution_count": 8,
   "id": "01379127",
   "metadata": {},
   "outputs": [],
   "source": [
    "def f_dx(w, X, y):\n",
    "    num = 0\n",
    "    n = X.shape[0]\n",
    "    d = X.shape[1]\n",
    "    for xi, yi in zip(X,y):\n",
    "        xi = np.reshape(xi, (d,1))\n",
    "        num += (w.T.dot(xi) - yi)*(xi)\n",
    "    return (2/n) * num"
   ]
  },
  {
   "cell_type": "code",
   "execution_count": 9,
   "id": "2d26a85a",
   "metadata": {},
   "outputs": [],
   "source": [
    "f_value_list = []\n",
    "lr = 0.01\n",
    "d = X.shape[1]\n",
    "w = randn(d,1)\n",
    "for i in range(200):\n",
    "    w = w - lr * f_dx(w, X, y)\n",
    "    f_value_list.append(f(w, X, y))"
   ]
  },
  {
   "cell_type": "code",
   "execution_count": 10,
   "id": "89febe72",
   "metadata": {},
   "outputs": [
    {
     "name": "stdout",
     "output_type": "stream",
     "text": [
      "MSE:  0.0076164263\n"
     ]
    },
    {
     "data": {
      "image/png": "[encoded data removed]",
      "text/plain": [
       "<Figure size 640x480 with 1 Axes>"
      ]
     },
     "metadata": {},
     "output_type": "display_data"
    }
   ],
   "source": [
    "plt.plot(f_value_list)\n",
    "plt.title('MSE over GD')\n",
    "plt.xlabel('steps')\n",
    "plt.ylabel('MSE')\n",
    "print(\"MSE: \", np.round(f_value_list[-1], 10))\n",
    "plt.show()"
   ]
  },
  {
   "cell_type": "markdown",
   "id": "ac32fa0c",
   "metadata": {},
   "source": [
    "## (c) Solve with Closed Form Solution"
   ]
  },
  {
   "cell_type": "code",
   "execution_count": 11,
   "id": "7b2117d9",
   "metadata": {},
   "outputs": [],
   "source": [
    "ones = np.ones((X.shape[0], 1))\n",
    "phi = np.hstack((X, ones))\n",
    "w = np.linalg.inv(phi.T.dot(phi)).dot(phi.T).dot(y)"
   ]
  },
  {
   "cell_type": "code",
   "execution_count": 12,
   "id": "68ed9401",
   "metadata": {},
   "outputs": [
    {
     "name": "stdout",
     "output_type": "stream",
     "text": [
      "MSE:  0.0008483577\n"
     ]
    }
   ],
   "source": [
    "print(\"MSE: \", np.round(mse(y, phi.dot(w)), 10))"
   ]
  },
  {
   "cell_type": "markdown",
   "id": "4a61c185",
   "metadata": {},
   "source": [
    "## Question 2. (10 points) Repeat the previous question but this time use Polynomial regression (2nd order)."
   ]
  },
  {
   "cell_type": "markdown",
   "id": "7e2a8f2d",
   "metadata": {},
   "source": [
    "## (a) Solve with sklearn"
   ]
  },
  {
   "cell_type": "code",
   "execution_count": 13,
   "id": "50dc51b9",
   "metadata": {},
   "outputs": [
    {
     "name": "stdout",
     "output_type": "stream",
     "text": [
      "MSE:  0.0006914124\n"
     ]
    }
   ],
   "source": [
    "poly = PolynomialFeatures(2)\n",
    "polyX = poly.fit_transform(X)\n",
    "reg = LinearRegression().fit(polyX, y)\n",
    "print(\"MSE: \", np.round(mse(y, reg.predict((polyX))), 10))"
   ]
  },
  {
   "cell_type": "markdown",
   "id": "354dbe02",
   "metadata": {},
   "source": [
    "## (b) Solve with Gradient Descent"
   ]
  },
  {
   "cell_type": "code",
   "execution_count": 14,
   "id": "6109b8cf",
   "metadata": {},
   "outputs": [],
   "source": [
    "lr = 0.001\n",
    "poly = PolynomialFeatures(2)\n",
    "phi = poly.fit_transform(X)\n",
    "n = phi.shape[0]\n",
    "d = phi.shape[1]\n",
    "w = randn(d,1)"
   ]
  },
  {
   "cell_type": "code",
   "execution_count": 15,
   "id": "b3cfd526",
   "metadata": {},
   "outputs": [],
   "source": [
    "mse_list = []\n",
    "for i in range(2500):\n",
    "    w = w - lr * f_dx(w, phi, y)\n",
    "    mse_list.append(f(w, phi, y))"
   ]
  },
  {
   "cell_type": "code",
   "execution_count": 16,
   "id": "33e67da4",
   "metadata": {},
   "outputs": [
    {
     "name": "stdout",
     "output_type": "stream",
     "text": [
      "MSE:  0.0076164263\n"
     ]
    },
    {
     "data": {
      "image/png": "[encoded data removed]",
      "text/plain": [
       "<Figure size 640x480 with 1 Axes>"
      ]
     },
     "metadata": {},
     "output_type": "display_data"
    }
   ],
   "source": [
    "plt.plot(mse_list)\n",
    "plt.title('MSE over GD')\n",
    "plt.xlabel('steps')\n",
    "plt.ylabel('MSE')\n",
    "print(\"MSE: \", np.round(f_value_list[-1], 10))\n",
    "plt.show() "
   ]
  },
  {
   "cell_type": "markdown",
   "id": "ba1a6df4",
   "metadata": {},
   "source": [
    "## (c) Closed Form Solution"
   ]
  },
  {
   "cell_type": "code",
   "execution_count": 17,
   "id": "55ca93c7",
   "metadata": {},
   "outputs": [
    {
     "name": "stdout",
     "output_type": "stream",
     "text": [
      "MSE:  0.0006914124\n"
     ]
    }
   ],
   "source": [
    "phi = poly.fit_transform(X)\n",
    "w = np.linalg.inv(phi.T.dot(phi)).dot(phi.T).dot(y)\n",
    "print(\"MSE: \", np.round(mse(y, phi.dot(w)), 10))"
   ]
  },
  {
   "cell_type": "markdown",
   "id": "a5a45482",
   "metadata": {},
   "source": [
    "## Question 3. (10 points) Given the data\n",
    "\n",
    "$\n",
    "\\begin{bmatrix}\n",
    "    x & y \\\\\n",
    "    0 & 1 \\\\\n",
    "    1 & 0 \\\\\n",
    "    2 & 2 \\\\\n",
    "    3 & -2\n",
    "\\end{bmatrix}\n",
    "$\n",
    "\n",
    "If we assume that the function to predict y from x is a linear function then the function would like.\n",
    "\n",
    "$f(x) = ax + b$\n",
    "\n",
    "The goal is to use the data to identify the best a and b using the Closed-Form solution. Solve the question by\n",
    "hand as well as using Python."
   ]
  },
  {
   "cell_type": "markdown",
   "id": "1cfbfaad",
   "metadata": {},
   "source": [
    "$w = (\\phi ^T \\phi)^{-1}\\phi ^Ty$\n",
    "\n",
    "$\\phi ^T \\phi = \n",
    "\\begin{bmatrix}\n",
    "    0 & 1 & 2 & 3 \\\\\n",
    "    1 & 1 & 1 & 1\n",
    "\\end{bmatrix}\n",
    "\\begin{bmatrix}\n",
    "    0 & 1 \\\\\n",
    "    1 & 1 \\\\\n",
    "    2 & 1 \\\\\n",
    "    3 & 1\n",
    "\\end{bmatrix} = \n",
    "\\begin{bmatrix}\n",
    "    0 \\cdot 0 + 1 \\cdot 1 + 2 \\cdot 2 + 3 \\cdot 3 & 0 \\cdot 1 + 1 \\cdot 1 + 2 \\cdot 1 + 3 \\cdot 1 \\\\\n",
    "    1 \\cdot 0 + 1 \\cdot 1 + 1 \\cdot 2 + 1 \\cdot 3 & 1 \\cdot 1 + 1 \\cdot 1 + 1 \\cdot 1 + 1 \\cdot 1\n",
    "\\end{bmatrix} = \n",
    "\\begin{bmatrix}\n",
    "    14 & 6 \\\\\n",
    "    6 & 4\n",
    "\\end{bmatrix}\n",
    "$\n",
    "\n",
    "$\n",
    "(\\phi ^T \\phi) ^{-1} = \n",
    "\\frac{1}{14 \\cdot 4 - 6 \\cdot 6} \n",
    "\\begin{bmatrix}\n",
    "    4 & -6 \\\\\n",
    "    -6 & 14\n",
    "\\end{bmatrix} = \n",
    "\\begin{bmatrix}\n",
    "    0.2 & -0.3 \\\\\n",
    "    -0.3 & 0.7\n",
    "\\end{bmatrix}\n",
    "$\n",
    "\n",
    "$\n",
    "(\\phi ^T \\phi) ^{-1} \\phi ^T =\n",
    "\\begin{bmatrix}\n",
    "    0.2 & -0.3 \\\\\n",
    "    -0.3 & 0.7\n",
    "\\end{bmatrix}\n",
    "\\begin{bmatrix}\n",
    "    0 & 1 & 2 & 3 \\\\\n",
    "    1 & 1 & 1 & 1\n",
    "\\end{bmatrix} = \n",
    "\\begin{bmatrix}\n",
    "    -0.3 & 0.2 - 0.3 & -0.4 - 0.3 & 0.6 - 0.3 \\\\\n",
    "    0.7 & -0.3 + 0.7 & -0.6 + 0.7 & -0.9 + 0.7\n",
    "\\end{bmatrix} = \n",
    "\\begin{bmatrix}\n",
    "    -0.3 & -0.1 & 0.1 & 0.3 \\\\\n",
    "    0.7 & 0.4 & 0.1 & -0.2\n",
    "\\end{bmatrix}\n",
    "$\n",
    "\n",
    "$\n",
    "(\\phi ^T \\phi)^{-1}\\phi ^Ty = \n",
    "\\begin{bmatrix}\n",
    "    -0.3 & -0.1 & 0.1 & 0.3 \\\\\n",
    "    0.7 & 0.4 & 0.1 & -0.2\n",
    "\\end{bmatrix}\n",
    "\\begin{bmatrix}\n",
    "    1 \\\\\n",
    "    0 \\\\ \n",
    "    2 \\\\\n",
    "    -2 \n",
    "\\end{bmatrix} = \n",
    "\\begin{bmatrix}\n",
    "    -0.3 + 0.2 - 0.6 \\\\\n",
    "    0.7 + 0.2 + 0.4 \\\\\n",
    "\\end{bmatrix} =\n",
    "\\boxed{\n",
    "\\begin{bmatrix}\n",
    "    -0.7 \\\\\n",
    "    1.3\n",
    "\\end{bmatrix} \\hspace{1cm}\n",
    "a = -0.7 \\hspace{1cm}\n",
    "b = 1.3}\n",
    "$"
   ]
  },
  {
   "cell_type": "code",
   "execution_count": 18,
   "id": "2d341197",
   "metadata": {},
   "outputs": [
    {
     "name": "stdout",
     "output_type": "stream",
     "text": [
      "a:  [-0.7]\n",
      "b:  [1.3]\n",
      "Solution: f(x) = [-0.7]x + [1.3]\n"
     ]
    }
   ],
   "source": [
    "x = np.array([[0],\n",
    "              [1],\n",
    "              [2],\n",
    "              [3]])\n",
    "\n",
    "y = np.array([[1],\n",
    "              [0],\n",
    "              [2],\n",
    "              [-2]])\n",
    "\n",
    "ones = np.ones((4, 1))\n",
    "phi = np.hstack((x, ones))\n",
    "w = np.linalg.inv(phi.T.dot(phi)).dot(phi.T).dot(y)\n",
    "print(\"a: \", w[0])\n",
    "print(\"b: \", w[1])\n",
    "print(f\"Solution: f(x) = {w[0]}x + {w[1]}\")"
   ]
  },
  {
   "cell_type": "markdown",
   "id": "5bf74aee",
   "metadata": {},
   "source": [
    "## Question 4. (20 points)\n",
    "Let’s say we have some $x =\n",
    "\\begin{bmatrix}\n",
    "    x_1 \\\\\n",
    "    x_2\n",
    "\\end{bmatrix}\n",
    "$\n",
    ", and the feature maps are\n",
    "\n",
    "1) $\\phi_1(x) = x_1$\n",
    "\n",
    "2) $\\phi_2(x) = x_2$\n",
    "\n",
    "3) $\\phi_3(x) = x_1x_2^2$\n",
    "\n",
    "4) $\\phi_3(x) = x_1^3$\n",
    "\n",
    "5) $\\phi_3(x) = x_2^2$\n",
    "\n",
    "4) $\\phi_6(x) = 1$\n",
    "\n",
    "Given the following data\n",
    "\n",
    "$\n",
    "\\begin{bmatrix}\n",
    "    x_1 & x_2 \\\\\n",
    "    0 & 2 \\\\\n",
    "    2 & -1 \\\\\n",
    "    -2 & 1 \\\\\n",
    "    3 & 3 \\\\\n",
    "    4 & 1 \\\\\n",
    "\\end{bmatrix}\n",
    "$\n",
    "\n",
    "Transform the data using the feature map"
   ]
  },
  {
   "cell_type": "markdown",
   "id": "ae78ed91",
   "metadata": {},
   "source": [
    "$\n",
    "\\begin{bmatrix}\n",
    "    \\phi_1 & \\phi_2 & \\phi_3 & \\phi_4 & \\phi_5 & \\phi_6 \\\\\n",
    "    0 & 2 & 0 & 0 & 4 & 1\\\\\n",
    "    2 & -1 & 2 & 8 & 1 & 1\\\\\n",
    "    -2 & 1 & -2 & -8 & 1 & 1\\\\\n",
    "    3 & 3 & 27 & 27 & 9 & 1\\\\\n",
    "    4 & 1 & 4 & 64 & 1 & 1\\\\\n",
    "\\end{bmatrix}\n",
    "$"
   ]
  },
  {
   "cell_type": "markdown",
   "id": "b8296ebf",
   "metadata": {},
   "source": [
    "## Question 5. (10 points) Given the probability table below where X represents the probability of you having a good or bad date and Y represents the potential topics you could talk about during a date."
   ]
  },
  {
   "cell_type": "markdown",
   "id": "9bff7b8d",
   "metadata": {},
   "source": [
    "$\n",
    "\\begin{bmatrix}\n",
    "    & x = good & x = bad \\\\\n",
    "    y = ex & 0 & 0.1 \\\\\n",
    "    y = food & 0.4 & 0.1 \\\\\n",
    "    y = travel & 0.2 & 0.1 \\\\\n",
    "    y = weather & 0.0 & 0.1 \\\\\n",
    "\\end{bmatrix}\n",
    "$"
   ]
  },
  {
   "cell_type": "markdown",
   "id": "a42bf162",
   "metadata": {},
   "source": [
    "## 1) What is the probability of having a good date? bad date?\n",
    "\n",
    "$P(x = good) = 0.4 + 0.2 = \\boxed{0.6}$\n",
    "\n",
    "$P(x = bad) = 0.1 + 0.1 + 0.1 + 0.1 = \\boxed{0.4}$"
   ]
  },
  {
   "cell_type": "markdown",
   "id": "a6f0b577",
   "metadata": {},
   "source": [
    "## 2) What is the probability that you would talk about food and have a good date?\n",
    "\n",
    "$P(y = food \\cap x = good) = \\boxed{0.4}$"
   ]
  },
  {
   "cell_type": "markdown",
   "id": "3fc51aba",
   "metadata": {},
   "source": [
    "## 3) What is the probability of you talking about food or travel?\n",
    "\n",
    "$P(y = food \\cup y = travel) = 0.4 + 0.1 + 0.2 + 0.1 = \\boxed{0.8}$"
   ]
  },
  {
   "cell_type": "markdown",
   "id": "09ccf95c",
   "metadata": {},
   "source": [
    "## 4) What is the probability of you talking about travel or having a good date?\n",
    "\n",
    "$P(y = travel \\cup x = good) = P(y = travel) + P(x = good) - P(y = travel \\cap x = good)\n",
    "= 0.6 + 0.3 - 0.2 = \\boxed{0.7} $"
   ]
  },
  {
   "cell_type": "markdown",
   "id": "96fc880d",
   "metadata": {},
   "source": [
    "## 5) What is the probability of you having a bad date given you talk about your ex the whole time?\n",
    "\n",
    "$P(x = bad | y = ex) = \\frac{P(x = bad \\cap y = ex)}{P(y = ex)} = \\frac{0.1}{0.1} = \\boxed{1}$"
   ]
  },
  {
   "cell_type": "markdown",
   "id": "9ff4b12b",
   "metadata": {},
   "source": [
    "## 6) What is the probability of you having a good date given that you talk about the weather?\n",
    "\n",
    "• Solve this problem with conditional probability.\n",
    "\n",
    "• Solve this problem using Bayes’ Rule.\n",
    "\n",
    "• Note: The solution should be identical.\n",
    "\n",
    "With conditional probabilitity:\n",
    "\n",
    "$P(x = good | y = weather) = \\frac{P(x = good \\cap y = weather)}{P(y=weather)} =  \\frac{0}{0.1} = \\boxed{0}$\n",
    "\n",
    "With Bayes' rule:\n",
    "\n",
    "$P(x = good | y = weather) = \\frac{P(y = weather | x = good)P(x = good)}{P(y = weather)} = \\frac{0 \\cdot 0.6}{0.1} = \\boxed{0}$"
   ]
  },
  {
   "cell_type": "markdown",
   "id": "7d1e271f",
   "metadata": {},
   "source": [
    "## 7) Which topic should you talk about?\n",
    "\n",
    "$P(x = good | y = food) = \\frac{P(x = good \\cap y = food)}{P(y = food)} = \\frac{0.4}{0.5} = 0.8$\n",
    "\n",
    "$P(x = good | y = travel) = \\frac{P(x = good \\cap y = travel)}{P(y = travel)} = \\frac{0.2}{0.3} = 0.66$\n",
    "\n",
    "Since 0.8 > 0.66 , you should talk about food"
   ]
  },
  {
   "cell_type": "markdown",
   "id": "a011d2bc",
   "metadata": {},
   "source": [
    "## Question 6. (10 points) Go to the data folder under ”probability distributions” and find the 3 csv file\n",
    "SAT.csv\n",
    "\n",
    "Lunch_wait_time.csv\n",
    "\n",
    "Student_age.csv\n",
    "\n",
    "For each file\n",
    "1) Generate the histogram\n",
    "2) Calculate the average value\n",
    "3) Calculate the probability that someone scored higher than 1200 on SAT\n",
    "4) Calculate the probability you have to wait more than 5 min.\n",
    "5) Calculate the probability that someone is younger than 19."
   ]
  },
  {
   "cell_type": "code",
   "execution_count": 19,
   "id": "007a7f07",
   "metadata": {},
   "outputs": [],
   "source": [
    "lunch_wait_time = genfromtxt('lunch_wait_time.csv', delimiter = ',')\n",
    "SAT = genfromtxt('SAT.csv', delimiter = ',')\n",
    "student_age = genfromtxt('student_age.csv', delimiter = ',')"
   ]
  },
  {
   "cell_type": "code",
   "execution_count": 20,
   "id": "33b5b5db",
   "metadata": {},
   "outputs": [
    {
     "name": "stdout",
     "output_type": "stream",
     "text": [
      "Average SAT:  1147.82875\n",
      "Probability of a SAT > 1200:  0.3575\n"
     ]
    },
    {
     "data": {
      "image/png": "[encoded data removed]",
      "text/plain": [
       "<Figure size 640x480 with 1 Axes>"
      ]
     },
     "metadata": {},
     "output_type": "display_data"
    }
   ],
   "source": [
    "plt.hist(SAT, 20)\n",
    "print(\"Average SAT: \", np.mean(SAT))\n",
    "plt.title(\"SAT\")\n",
    "SAT_count = 0\n",
    "for i in SAT:\n",
    "    if i > 1200:\n",
    "        SAT_count += 1\n",
    "print(\"Probability of a SAT > 1200: \", SAT_count/len(SAT))\n",
    "plt.show()"
   ]
  },
  {
   "cell_type": "code",
   "execution_count": 21,
   "id": "2550ee2b",
   "metadata": {},
   "outputs": [
    {
     "name": "stdout",
     "output_type": "stream",
     "text": [
      "Average wait time:  1.0405\n",
      "Probability of a wait time > 5 minutes:  0.005\n"
     ]
    },
    {
     "data": {
      "image/png": "[encoded data removed]",
      "text/plain": [
       "<Figure size 640x480 with 1 Axes>"
      ]
     },
     "metadata": {},
     "output_type": "display_data"
    }
   ],
   "source": [
    "plt.hist(lunch_wait_time, 20)\n",
    "plt.title(\"Lunch wait time\")\n",
    "print(\"Average wait time: \", np.mean(lunch_wait_time))\n",
    "wait_time_count = 0\n",
    "for i in lunch_wait_time:\n",
    "    if i > 5:\n",
    "        wait_time_count += 1\n",
    "print(\"Probability of a wait time > 5 minutes: \", wait_time_count/len(lunch_wait_time))\n",
    "plt.show()"
   ]
  },
  {
   "cell_type": "code",
   "execution_count": 22,
   "id": "628bd7c2",
   "metadata": {},
   "outputs": [
    {
     "name": "stdout",
     "output_type": "stream",
     "text": [
      "Average age:  19.931625\n",
      "Probability of someone being younger than 19:  0.34125\n"
     ]
    },
    {
     "data": {
      "image/png": "[encoded data removed]",
      "text/plain": [
       "<Figure size 640x480 with 1 Axes>"
      ]
     },
     "metadata": {},
     "output_type": "display_data"
    }
   ],
   "source": [
    "plt.hist(student_age, 20)\n",
    "plt.title(\"Age of random students\")\n",
    "print(\"Average age: \", np.mean(student_age))\n",
    "age_count = 0\n",
    "for i in student_age:\n",
    "    if i < 19:\n",
    "        age_count += 1\n",
    "print(\"Probability of someone being younger than 19: \", age_count/len(student_age))\n",
    "plt.show()"
   ]
  },
  {
   "cell_type": "markdown",
   "id": "ef2b16fb",
   "metadata": {},
   "source": [
    "## Question 7. (20pts) Given the following distribution\n",
    "\n",
    "$\n",
    "p(x) = \n",
    "\\begin{cases} \n",
    "x^2 - x + 1 & \\forall  0 \\leq x \\leq b \\\\\n",
    "0 & \\text{everywhere else} \n",
    "\\end{cases}\n",
    "$\n",
    "\n",
    "Given that the total probability is always 1, it implies that the area between 0 and b must add up to 1, implying that the integral between 0 and b must therefore also add up to 1 where\n",
    "\n",
    "$\n",
    "\\int_0^b x^2 - x + 1 dx = 1\n",
    "$"
   ]
  },
  {
   "cell_type": "markdown",
   "id": "e3343a2e",
   "metadata": {},
   "source": [
    "### 1) Use Numpy to find the value of b?\n",
    "\n",
    "$\\int_0^b x^2 - x + 1 dx = 1 \\implies \\frac{x^3}{3} - \\frac{x^2}{2} + x = 1 \\implies \\frac{x^3}{3} - \\frac{x^2}{2} + x - 1 = 0$ "
   ]
  },
  {
   "cell_type": "code",
   "execution_count": 23,
   "id": "8175cf66",
   "metadata": {},
   "outputs": [
    {
     "name": "stdout",
     "output_type": "stream",
     "text": [
      "[0.1731741 +1.60326167j 0.1731741 -1.60326167j 1.15365329+0.j        ]\n",
      "\n",
      "b:  1.1537\n"
     ]
    }
   ],
   "source": [
    "roots = np.roots([0.333333, -0.5, 1, -1]) # 033333x^3 - 0.5x^2 + 1 - 1\n",
    "print(roots) # We only want positive real roots\n",
    "#https://numpy.org/doc/stable/reference/generated/numpy.isreal.html\n",
    "#https://numpy.org/doc/stable/reference/generated/numpy.real.html\n",
    "print(\"\\nb: \", np.real(np.round(roots[np.isreal(roots)], 4)).item())"
   ]
  },
  {
   "cell_type": "markdown",
   "id": "d3590d9f",
   "metadata": {},
   "source": [
    "### 2) Solve the integral by hand and find the probability p(0 ≤ x ≤ 0.3).\n",
    "\n",
    "\n",
    "$F(x) = \\int_0^b x^2 - x + 1 dx = \\frac{1}{3}x^3 - \\frac{1}{2}x^2 + x + C$\n",
    "\n",
    "$F(0.3) - F(0) = \\frac{1}{3}(0.3)^3 - \\frac{1}{2}(0.3)^2 + 0.3 - (0 - 0 + 0) = \\boxed{0.264}$"
   ]
  },
  {
   "cell_type": "markdown",
   "id": "ecadce50",
   "metadata": {},
   "source": [
    "## Question 8. (10 pts) Write out the entire derivation to show that\n",
    "\n",
    "### 1) $\\frac{1}{n} \\sum_{i=1}^n (\\phi (x_i)^T w - y_i)^2 = \\frac{1}{n}(\\Phi w - y)^2$ where $\\Phi = \n",
    "\\begin{bmatrix}\n",
    "    \\phi (x_1)^T \\\\\n",
    "    \\phi (x_2)^T \\\\\n",
    "    ...\n",
    "\\end{bmatrix},\n",
    "y = \n",
    "\\begin{bmatrix}\n",
    "    y_1 \\\\\n",
    "    y_2 \\\\\n",
    "    ...\n",
    "\\end{bmatrix}\n",
    "$\n",
    "\n",
    "### 2) $\\frac{d}{dw} \\frac{1}{n} \\sum_{i=1}^n (\\phi (x_i)^T w - y_i)^2 = \\frac{2}{n} \\Phi ^ T(\\Phi w - y)$ where $\\Phi = \n",
    "\\begin{bmatrix}\n",
    "    \\phi (x_1)^T \\\\\n",
    "    \\phi (x_2)^T \\\\\n",
    "    ...\n",
    "\\end{bmatrix},\n",
    "y = \n",
    "\\begin{bmatrix}\n",
    "    y_1 \\\\\n",
    "    y_2 \\\\\n",
    "    ...\n",
    "\\end{bmatrix}\n",
    "$"
   ]
  },
  {
   "cell_type": "markdown",
   "id": "d5184304",
   "metadata": {},
   "source": [
    "### 1)\n",
    "\n",
    "$\\frac{1}{n} \\sum_{i=1}^n (\\phi (x_i)^T w - y_i)^2$\n",
    "\n",
    "= $\\frac{1}{n} ((\\phi (x_1)^T w - y_1)^2 + (\\phi (x_2)^T w - y_2)^2 + ... + (\\phi (x_n)^T w - y_n)^2)$\n",
    "\n",
    "Since $(\\phi (x_i)^T w - y_i)^2 = (\\phi (x_i)^T w - y_i)(\\phi (x_i)^T w - y_i)$, we get\n",
    "\n",
    "$\\frac{1}{n} ((\\phi (x_1)^T w - y_1)(\\phi (x_1)^T w - y_1) + (\\phi (x_2)^T w - y_2)(\\phi (x_2)^T w - y_2) + ...)$\n",
    "\n",
    "$= \n",
    "\\frac{1}{n}\n",
    "\\begin{bmatrix}\n",
    "    (\\phi (x_1)^T w - y_1)^T &\n",
    "    (\\phi (x_2)^T w - y_2)^T & \n",
    "    ...\n",
    "\\end{bmatrix}\n",
    "\\begin{bmatrix}\n",
    "    (\\phi (x_1)^T w - y_1)^T \\\\\n",
    "    (\\phi (x_2)^T w - y_2)^T \\\\\n",
    "    ...\n",
    "\\end{bmatrix}\n",
    "$\n",
    "\n",
    "Using the second part of the hint hint, we get\n",
    "\n",
    "$\n",
    "\\frac{1}{n}(\\Phi w - y)^T(\\Phi w - y) = \\boxed{\\frac{1}{n} (\\Phi w - y)^2}\n",
    "$ as required."
   ]
  },
  {
   "cell_type": "markdown",
   "id": "a4aee392",
   "metadata": {},
   "source": [
    "### 2)\n",
    "\n",
    "let $g = \\phi (x_i)^T w - y_i$\n",
    "\n",
    "Then,\n",
    "\n",
    "$\\frac{1}{n} \\sum_{i=1}^n (\\phi (x_i)^T w - y_i)^2 = \\frac{1}{n} \\sum_{i=1}^n (g)^2$\n",
    "\n",
    "So, \n",
    "\n",
    "$ \\frac{d}{dw} \\frac{1}{n} \\sum_{i=1}^n (g)^2 = \\frac{df}{dg} \\frac{dg}{dw} $\n",
    "\n",
    "Hence, we must find $\\frac{df}{dg}$ and $\\frac{dg}{dw}$\n",
    "\n",
    "$\\frac{df}{dg} = \\frac{2}{n} \\sum_i^n 2g$\n",
    "\n",
    "$\\frac{dg}{dw} = \\phi (x_i)$\n",
    "\n",
    "$\\frac{df}{dg} \\frac{dg}{dw} = \\frac{2}{n} \\sum_{i=1}^n (\\phi (x_i)^T w - y_i) \\phi (x_i)$\n",
    "\n",
    "$= \\frac{2}{n} (((\\phi (x_1))(\\phi (x_1)^T w - y_1) + ((\\phi (x_2))(\\phi (x_2)^T w - y_2) + ...)$\n",
    "\n",
    "$= \n",
    "\\frac{2}{n}\n",
    "\\begin{bmatrix}\n",
    "    \\phi(x_1) &\n",
    "    \\phi(x_2) &\n",
    "    ...\n",
    "\\end{bmatrix}\n",
    "\\begin{bmatrix}\n",
    "    \\phi (x_1)^T w - y_1 \\\\\n",
    "    \\phi (x_2)^T w - y_2 \\\\ \n",
    "    ...\n",
    "\\end{bmatrix}\n",
    "$\n",
    "\n",
    "$\n",
    "= \\boxed{\\frac{2}{n} \\Phi ^T (\\Phi w - y)}\n",
    "$ as required."
   ]
  },
  {
   "cell_type": "code",
   "execution_count": null,
   "id": "94ea74c8",
   "metadata": {},
   "outputs": [],
   "source": []
  }
 ],
 "metadata": {
  "kernelspec": {
   "display_name": "Python 3 (ipykernel)",
   "language": "python",
   "name": "python3"
  },
  "language_info": {
   "codemirror_mode": {
    "name": "ipython",
    "version": 3
   },
   "file_extension": ".py",
   "mimetype": "text/x-python",
   "name": "python",
   "nbconvert_exporter": "python",
   "pygments_lexer": "ipython3",
   "version": "3.11.5"
  }
 },
 "nbformat": 4,
 "nbformat_minor": 5
}
