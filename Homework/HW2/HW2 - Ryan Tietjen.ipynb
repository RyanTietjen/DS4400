{
 "cells": [
  {
   "cell_type": "markdown",
   "id": "53dcdf80",
   "metadata": {},
   "source": [
    "Professor Wu\n",
    "\n",
    "DS 4400: Machine Learning I\n",
    "\n",
    "Ryan Tietjen\n",
    "\n",
    "9/25/24\n",
    "\n",
    "**Assignment 2**"
   ]
  },
  {
   "cell_type": "markdown",
   "id": "01c8c477",
   "metadata": {},
   "source": [
    "## Question 1. Use numpy (all the CSV files can be found on the data folder inside HW2) (10 pts)\n",
    "1) load hw_2_A.csv as variable A\n",
    "2) load hw_2_B.csv as variable B\n",
    "3) load hw_2_C.csv as variable C\n",
    "4) load hw_2_D.csv as variable D\n",
    "5) load hw_2_E.csv as variable E\n",
    "6) load hw_2_x.csv as variable x\n",
    "7) load hw_2_y.csv as variable y\n",
    "8) load hw_2_z.csv as variable z"
   ]
  },
  {
   "cell_type": "code",
   "execution_count": 1,
   "id": "cbce112d",
   "metadata": {},
   "outputs": [],
   "source": [
    "import numpy as np\n",
    "import sys\n",
    "np.set_printoptions(precision=4)\n",
    "np.set_printoptions(threshold=30)\n",
    "np.set_printoptions(linewidth=300)\n",
    "np.set_printoptions(suppress=True)\n",
    "np.set_printoptions(threshold=sys.maxsize)"
   ]
  },
  {
   "cell_type": "code",
   "execution_count": 2,
   "id": "07ab0ea3",
   "metadata": {},
   "outputs": [],
   "source": [
    "import numpy as np\n",
    "from numpy import genfromtxt\n",
    "from numpy import trace\n",
    "A = genfromtxt('hw_2_A.csv', delimiter = ',')\n",
    "B = genfromtxt('hw_2_B.csv', delimiter = ',')\n",
    "C = genfromtxt('hw_2_C.csv', delimiter = ',')\n",
    "D = genfromtxt('hw_2_D.csv', delimiter = ',')\n",
    "E = genfromtxt('hw_2_E.csv', delimiter = ',')\n",
    "x = genfromtxt('hw_2_x.csv', delimiter = ',')\n",
    "y = genfromtxt('hw_2_y.csv', delimiter = ',')\n",
    "z = genfromtxt('hw_2_z.csv', delimiter = ',')\n",
    "\n",
    "x = x.reshape((x.size, 1)) \n",
    "y = y.reshape((y.size, 1)) \n",
    "z = z.reshape((z.size, 1)) "
   ]
  },
  {
   "cell_type": "markdown",
   "id": "0d9eeace",
   "metadata": {},
   "source": [
    "## After loading these variables, use numpy to calculate the following (show the code and print out the results 20pt):"
   ]
  },
  {
   "cell_type": "markdown",
   "id": "53cb376e",
   "metadata": {},
   "source": [
    "1) $max(⟨A, A⟩)$"
   ]
  },
  {
   "cell_type": "code",
   "execution_count": 3,
   "id": "126268a7",
   "metadata": {},
   "outputs": [
    {
     "name": "stdout",
     "output_type": "stream",
     "text": [
      "292.05000000000007\n"
     ]
    }
   ],
   "source": [
    "print(np.max(trace(A.dot(A.T))))"
   ]
  },
  {
   "cell_type": "markdown",
   "id": "d26e6135",
   "metadata": {},
   "source": [
    "2) $min(⟨A, B⟩)$"
   ]
  },
  {
   "cell_type": "code",
   "execution_count": 4,
   "id": "8fd666ba",
   "metadata": {},
   "outputs": [
    {
     "name": "stdout",
     "output_type": "stream",
     "text": [
      "10.449999999999996\n"
     ]
    }
   ],
   "source": [
    "print(np.min(trace(A.dot(B.T))))"
   ]
  },
  {
   "cell_type": "markdown",
   "id": "577dca29",
   "metadata": {},
   "source": [
    "3) $sum(⟨C, D⟩)$"
   ]
  },
  {
   "cell_type": "code",
   "execution_count": 5,
   "id": "b9fd804c",
   "metadata": {},
   "outputs": [
    {
     "name": "stdout",
     "output_type": "stream",
     "text": [
      "-3.49\n"
     ]
    }
   ],
   "source": [
    "print(np.sum(trace(C.dot(D.T))))"
   ]
  },
  {
   "cell_type": "markdown",
   "id": "d30b7ad6",
   "metadata": {},
   "source": [
    "4) $average((C + D)x)$"
   ]
  },
  {
   "cell_type": "code",
   "execution_count": 6,
   "id": "2cac0cb6",
   "metadata": {},
   "outputs": [
    {
     "name": "stdout",
     "output_type": "stream",
     "text": [
      "-0.4699999999999998\n"
     ]
    }
   ],
   "source": [
    "print(np.average((C+D).dot(x)))"
   ]
  },
  {
   "cell_type": "markdown",
   "id": "ddd6aa89",
   "metadata": {},
   "source": [
    "5) $max(⟨C^⊤, D^⊤⟩x)$"
   ]
  },
  {
   "cell_type": "code",
   "execution_count": 7,
   "id": "2e2d26ed",
   "metadata": {},
   "outputs": [
    {
     "name": "stdout",
     "output_type": "stream",
     "text": [
      "0.3489999999999999\n"
     ]
    }
   ],
   "source": [
    "print(np.max(np.trace(C.T.dot(D.T.T)) * (x)))"
   ]
  },
  {
   "cell_type": "markdown",
   "id": "52e10b06",
   "metadata": {},
   "source": [
    "6) $min(x ⊗ z)$"
   ]
  },
  {
   "cell_type": "code",
   "execution_count": 8,
   "id": "db4b0d9f",
   "metadata": {},
   "outputs": [
    {
     "name": "stdout",
     "output_type": "stream",
     "text": [
      "-3.7199999999999998\n"
     ]
    }
   ],
   "source": [
    "print(np.min(x.dot(z.T)))"
   ]
  },
  {
   "cell_type": "markdown",
   "id": "d4168793",
   "metadata": {},
   "source": [
    "7) $(x ⊗ z)$"
   ]
  },
  {
   "cell_type": "code",
   "execution_count": 9,
   "id": "417eec06",
   "metadata": {},
   "outputs": [
    {
     "name": "stdout",
     "output_type": "stream",
     "text": [
      "[[-3.72  0.12  0.24]\n",
      " [-1.86  0.06  0.12]\n",
      " [ 0.   -0.   -0.  ]\n",
      " [ 0.31 -0.01 -0.02]\n",
      " [-3.72  0.12  0.24]]\n"
     ]
    }
   ],
   "source": [
    "print(x.dot(z.T))"
   ]
  },
  {
   "cell_type": "markdown",
   "id": "8a8a35b0",
   "metadata": {},
   "source": [
    "8) $sum(A + B − 10)$"
   ]
  },
  {
   "cell_type": "code",
   "execution_count": 10,
   "id": "cc165c08",
   "metadata": {},
   "outputs": [
    {
     "name": "stdout",
     "output_type": "stream",
     "text": [
      "-2987.2000000000003\n"
     ]
    }
   ],
   "source": [
    "print(np.sum(A+B-10))"
   ]
  },
  {
   "cell_type": "markdown",
   "id": "631e53e4",
   "metadata": {},
   "source": [
    "9) $average(A^TB)$"
   ]
  },
  {
   "cell_type": "code",
   "execution_count": 11,
   "id": "a0db3eb4",
   "metadata": {},
   "outputs": [
    {
     "name": "stdout",
     "output_type": "stream",
     "text": [
      "-2.7744444444444465\n"
     ]
    }
   ],
   "source": [
    "print(np.average(A.T.dot(B)))"
   ]
  },
  {
   "cell_type": "markdown",
   "id": "3158ef89",
   "metadata": {},
   "source": [
    "10) $E^TC^TDx$"
   ]
  },
  {
   "cell_type": "code",
   "execution_count": 12,
   "id": "277d211c",
   "metadata": {},
   "outputs": [
    {
     "name": "stdout",
     "output_type": "stream",
     "text": [
      "[[ 8.8684]\n",
      " [-4.502 ]\n",
      " [-3.0041]\n",
      " [-5.5886]]\n"
     ]
    }
   ],
   "source": [
    "print(E.T.dot(C.T).dot(D).dot(x))"
   ]
  },
  {
   "cell_type": "markdown",
   "id": "0d4eef77",
   "metadata": {},
   "source": [
    "## Question 2. Given the following data (10pts)\n",
    "\n",
    "$\n",
    "\\begin{bmatrix}\n",
    "    x & y \\\\\n",
    "    1 & 1 \\\\\n",
    "    2 & 1 \\\\\n",
    "    2 & 2 \\\\\n",
    "    3 & 2 \\\\\n",
    "\\end{bmatrix}\n",
    "$"
   ]
  },
  {
   "cell_type": "markdown",
   "id": "81748a07",
   "metadata": {},
   "source": [
    "1) Use python to plot out the 4 points of the data.\n",
    "2) Write your own linear regression code and solve it with gradient descent to identify a function f(x) such\n",
    "that given an x value, it returns the best prediction of y. Your function should be really similar to the red\n",
    "line as show in the plot below.\n",
    "3) Once you have your own function, use Numpy to plot the predicted line along with the 4 points to show\n",
    "that the line fits well with the points. Your result should look very similar to the plot below. (The example\n",
    "code that plots points and lines is in lecture 4).\n",
    "\n",
    "\n",
    "Note: Remember that the equation of a line is\n",
    "\n",
    "f(x) = ax + b.\n",
    "Therefore, in gradient descent, you would need to identify a and b."
   ]
  },
  {
   "cell_type": "code",
   "execution_count": 13,
   "id": "f78c15aa",
   "metadata": {},
   "outputs": [
    {
     "data": {
      "image/png": "[encoded data removed]",
      "text/plain": [
       "<Figure size 640x480 with 1 Axes>"
      ]
     },
     "metadata": {},
     "output_type": "display_data"
    }
   ],
   "source": [
    "import matplotlib.pyplot as plt\n",
    "x2 = np.array([[1], [2], [2], [3]])\n",
    "y2 = np.array([[1], [1], [2], [2]])\n",
    "phi = np.array([[1, 1],\n",
    "              [2, 1],\n",
    "              [2, 1],\n",
    "              [3, 1]])\n",
    "plt.scatter(x2, y2)\n",
    "plt.xlabel(\"X axis\")\n",
    "plt.ylabel(\"Y axis\")\n",
    "plt.xlim(0, 4) \n",
    "plt.ylim(0, 3)\n",
    "plt.show()"
   ]
  },
  {
   "cell_type": "code",
   "execution_count": 14,
   "id": "0158a1b7",
   "metadata": {},
   "outputs": [],
   "source": [
    "from numpy.random import randn\n",
    "d = 2\n",
    "w = randn(d,1)\n",
    "lr = 0.1\n",
    "n = 4\n",
    "def f(w):\n",
    "    num = 0\n",
    "    for xi, yi in zip(phi,y2):\n",
    "        xi = np.reshape(xi, (d,1))\n",
    "        num += (w.T.dot(xi) - yi)**2\n",
    "    return (num / n).item()"
   ]
  },
  {
   "cell_type": "code",
   "execution_count": 15,
   "id": "9f10602a",
   "metadata": {},
   "outputs": [],
   "source": [
    "def f_dx(w):\n",
    "    num = 0\n",
    "    for xi, yi in zip(phi,y2):\n",
    "        xi = np.reshape(xi, (d,1))\n",
    "        num += (w.T.dot(xi) - yi)*(xi)\n",
    "    return (2/n) * num"
   ]
  },
  {
   "cell_type": "code",
   "execution_count": 16,
   "id": "568d1cd0",
   "metadata": {},
   "outputs": [
    {
     "name": "stdout",
     "output_type": "stream",
     "text": [
      "Best w:\n",
      "[[0.5011]\n",
      " [0.4977]]\n"
     ]
    }
   ],
   "source": [
    "f_value_list = []\n",
    "for i in range(310):\n",
    "    w = w - lr * f_dx(w)\n",
    "    f_value_list.append(f(w))\n",
    "print(\"Best w:\")\n",
    "print(w)"
   ]
  },
  {
   "cell_type": "code",
   "execution_count": 17,
   "id": "be118d93",
   "metadata": {},
   "outputs": [
    {
     "data": {
      "image/png": "[encoded data removed]",
      "text/plain": [
       "<Figure size 640x480 with 1 Axes>"
      ]
     },
     "metadata": {},
     "output_type": "display_data"
    }
   ],
   "source": [
    "import matplotlib.pyplot as plt\n",
    "a = w[0]\n",
    "b = w[1]\n",
    "\n",
    "x_values = [0, 4]\n",
    "y_values = a * x_values + b \n",
    "\n",
    "plt.plot(x_values, y_values, 'r-') \n",
    "\n",
    "plt.scatter(x2, y2)\n",
    "plt.xlabel(\"X axis\")\n",
    "plt.ylabel(\"Y axis\")\n",
    "plt.xlim(0, 4) \n",
    "plt.ylim(0, 3)\n",
    "plt.show()"
   ]
  },
  {
   "cell_type": "markdown",
   "id": "0b0efca6",
   "metadata": {},
   "source": [
    "## Question 3. Given the following data (10pts)\n",
    "\n",
    "$\n",
    "\\begin{bmatrix}\n",
    "    x & y \\\\\n",
    "    1 & 1 \\\\\n",
    "    2 & 1 \\\\\n",
    "    1.5 & 0 \\\\\n",
    "    3 & 2 \\\\\n",
    "\\end{bmatrix}\n",
    "$\n",
    "\n",
    "Assume that the function is a parabola where\n",
    "\n",
    "$f(x) = ax^2 + bx + c$\n",
    "\n",
    "1) Write the regression code with gradient descent to identify a function f(x) such that given an x value, it\n",
    "returns the best prediction of y.\n",
    "2) Once you have your own function, plot out the 4 points and the line as predicted by your function f(x)."
   ]
  },
  {
   "cell_type": "code",
   "execution_count": 18,
   "id": "872d5931",
   "metadata": {},
   "outputs": [
    {
     "name": "stdout",
     "output_type": "stream",
     "text": [
      "[[1]\n",
      " [1]\n",
      " [1]]\n"
     ]
    }
   ],
   "source": [
    "d = 3\n",
    "w = np.array([[1], [1], [1]])\n",
    "print(w)\n",
    "lr = 0.01\n",
    "n = 4\n",
    "\n",
    "x3 = np.array([[1],\n",
    "               [2],\n",
    "               [1.5],\n",
    "               [3]])\n",
    "\n",
    "y3 = np.array([[1],\n",
    "               [1],\n",
    "               [0],\n",
    "               [2]])\n",
    "\n",
    "phi = np.array([[1, 1, 1],\n",
    "               [4, 2, 1],\n",
    "               [2.25, 1.5, 1],\n",
    "               [9, 3, 1]])"
   ]
  },
  {
   "cell_type": "code",
   "execution_count": 19,
   "id": "20d4f514",
   "metadata": {},
   "outputs": [],
   "source": [
    "def f3(w):\n",
    "    num = 0\n",
    "    for xi, yi in zip(phi,y3):\n",
    "        xi = np.reshape(xi, (d,1))\n",
    "        num += (w.T.dot(xi) - yi)**2\n",
    "    return (num / n).item()"
   ]
  },
  {
   "cell_type": "code",
   "execution_count": 20,
   "id": "9f626568",
   "metadata": {},
   "outputs": [],
   "source": [
    "def f3_dx(w):\n",
    "    num = 0\n",
    "    for xi, yi in zip(phi,y3):\n",
    "        xi = np.reshape(xi, (d,1))\n",
    "        num += (w.T.dot(xi) - yi)*(xi)\n",
    "    return (2/n) * num"
   ]
  },
  {
   "cell_type": "code",
   "execution_count": 21,
   "id": "6199fe4b",
   "metadata": {},
   "outputs": [
    {
     "name": "stdout",
     "output_type": "stream",
     "text": [
      "Best w:\n",
      "[[ 0.7889]\n",
      " [-2.5226]\n",
      " [ 2.5242]]\n"
     ]
    }
   ],
   "source": [
    "f_value_list = []\n",
    "for i in range(25000):\n",
    "    w = w - lr * f3_dx(w)\n",
    "    f_value_list.append(f3(w))\n",
    "print(\"Best w:\")\n",
    "print(w)"
   ]
  },
  {
   "cell_type": "code",
   "execution_count": 22,
   "id": "baf2194f",
   "metadata": {},
   "outputs": [
    {
     "data": {
      "image/png": "[encoded data removed]",
      "text/plain": [
       "<Figure size 640x480 with 1 Axes>"
      ]
     },
     "metadata": {},
     "output_type": "display_data"
    }
   ],
   "source": [
    "a = w[0]\n",
    "b = w[1]\n",
    "c = w[2]\n",
    "\n",
    "x_values = np.linspace(0,4,25)\n",
    "y_values = (x_values**2*a) + (b * x_values) + c \n",
    "\n",
    "plt.plot(x_values, y_values, 'r-') \n",
    "\n",
    "plt.scatter(x3, y3)\n",
    "plt.xlabel(\"X axis\")\n",
    "plt.ylabel(\"Y axis\")\n",
    "plt.xlim(0, 4) \n",
    "plt.ylim(-1, 3)\n",
    "plt.show()"
   ]
  },
  {
   "cell_type": "code",
   "execution_count": 23,
   "id": "4467eea5",
   "metadata": {},
   "outputs": [
    {
     "data": {
      "image/png": "[encoded data removed]",
      "text/plain": [
       "<Figure size 640x480 with 1 Axes>"
      ]
     },
     "metadata": {},
     "output_type": "display_data"
    }
   ],
   "source": [
    "plt.plot(f_value_list)\n",
    "plt.title('MSE over GD')\n",
    "plt.xlabel('steps')\n",
    "plt.ylabel('MSE')\n",
    "plt.show() "
   ]
  },
  {
   "cell_type": "code",
   "execution_count": 24,
   "id": "f0ac877a",
   "metadata": {},
   "outputs": [
    {
     "data": {
      "image/png": "[encoded data removed]",
      "text/plain": [
       "<Figure size 640x480 with 1 Axes>"
      ]
     },
     "metadata": {},
     "output_type": "display_data"
    }
   ],
   "source": [
    "plt.plot(f_value_list[300:])\n",
    "plt.title('MSE over GD (after 300 steps)')\n",
    "plt.xlabel('steps')\n",
    "plt.ylabel('MSE')\n",
    "plt.show() "
   ]
  },
  {
   "cell_type": "markdown",
   "id": "1e2ed6bf",
   "metadata": {},
   "source": [
    "## Question 4. Write out the derivation to get derivatives for all 17 functions in the class. Note that the 17 functions are in lecture 3 part 2. (20pts)"
   ]
  },
  {
   "cell_type": "markdown",
   "id": "6c69b67b",
   "metadata": {},
   "source": [
    "## Question 5. Use Python to check that all your derivatives are correct. (20pts) (Note: Skip the SVM objective for now.)"
   ]
  },
  {
   "cell_type": "markdown",
   "id": "ee9f3ca8",
   "metadata": {},
   "source": [
    "## 1. Linear: $f(x) = y^Tx$\n",
    "\n",
    "Since $y$ is a constant, the derivative of f(x) is trivial\n",
    "\n",
    "$f'(x) = \\boxed{y}$"
   ]
  },
  {
   "cell_type": "code",
   "execution_count": 25,
   "id": "968b8310",
   "metadata": {},
   "outputs": [
    {
     "name": "stdout",
     "output_type": "stream",
     "text": [
      "Auto gradient:\n",
      " [[2.]\n",
      " [5.]]\n",
      "Theoretical gradient:\n",
      " [[2]\n",
      " [5]]\n",
      "---------------------------------------\n",
      "Auto gradient:\n",
      " [[2.]\n",
      " [5.]]\n",
      "Theoretical gradient:\n",
      " [[2]\n",
      " [5]]\n",
      "---------------------------------------\n",
      "Auto gradient:\n",
      " [[2.]\n",
      " [5.]]\n",
      "Theoretical gradient:\n",
      " [[2]\n",
      " [5]]\n",
      "---------------------------------------\n"
     ]
    }
   ],
   "source": [
    "import autograd.numpy as np\n",
    "from autograd import grad\n",
    "def f1(x, y):\n",
    "    return np.dot(np.transpose(y), x)\n",
    "\n",
    "def f1_dx(x, y):\n",
    "    return y\n",
    "\n",
    "auto_grad = grad(f1)\n",
    "y = np.array([[2],[5]])\n",
    "\n",
    "for i in range(3):\n",
    "    x = np.random.random((2,1))\n",
    "    print(\"Auto gradient:\\n\", auto_grad(x, y))\n",
    "    print(\"Theoretical gradient:\\n\", f1_dx(x, y))\n",
    "    print(\"---------------------------------------\")"
   ]
  },
  {
   "cell_type": "markdown",
   "id": "74ab6b1f",
   "metadata": {},
   "source": [
    "## 2. Quadratic: $f(x) = x^TAx$\n",
    "\n",
    "Let $x =\n",
    "\\begin{bmatrix}\n",
    "    x_1 \\\\\n",
    "    x_2\n",
    "\\end{bmatrix}\n",
    "$ and $ A =\n",
    "\\begin{bmatrix}\n",
    "    a_{1,1} & a_{1,2} \\\\\n",
    "    a_{2,1} & a_{2,2} \n",
    "\\end{bmatrix}\n",
    "$\n",
    "\n",
    "Then $x^TAx = a_{1,1}x_1^2 + a_{1,2}x_1x_2 + a_{2,1}x_1x_2 + a_{2,2}x_2^2$\n",
    "\n",
    "$f'(x) = \n",
    "\\begin{bmatrix}\n",
    "    \\frac{df}{dx_1} \\\\\n",
    "    \\frac{df}{dx_2} \n",
    "\\end{bmatrix}\n",
    "$ $=\n",
    "\\begin{bmatrix}\n",
    "    2a_{1,1}x_1 + a_{1,2}x_2 + a_{2,1}x_2 \\\\\n",
    "    2a_{2,2}x_2 + a_{2,1}x_1 + a_{1,2}x_1\n",
    "\\end{bmatrix}\n",
    "$ $=\n",
    "\\begin{bmatrix}\n",
    "    2a_{1,1} & a_{1,2}+a_{2,1} \\\\\n",
    "    a_{1,2}+a_{2,1} & 2a_{2,2} & \n",
    "\\end{bmatrix}\n",
    "\\begin{bmatrix}\n",
    "    x_1 \\\\\n",
    "    x_2\n",
    "\\end{bmatrix}\n",
    "$ = \n",
    "$\\boxed{(A + A^T)x}\n",
    "$"
   ]
  },
  {
   "cell_type": "code",
   "execution_count": 26,
   "id": "aa8152b3",
   "metadata": {},
   "outputs": [
    {
     "name": "stdout",
     "output_type": "stream",
     "text": [
      "Auto gradient:\n",
      " [[6.237 ]\n",
      " [5.1351]]\n",
      "Theoretical gradient:\n",
      " [[6.237 ]\n",
      " [5.1351]]\n",
      "---------------------------------------\n",
      "Auto gradient:\n",
      " [[2.7165]\n",
      " [2.2058]]\n",
      "Theoretical gradient:\n",
      " [[2.7165]\n",
      " [2.2058]]\n",
      "---------------------------------------\n",
      "Auto gradient:\n",
      " [[3.789 ]\n",
      " [3.0422]]\n",
      "Theoretical gradient:\n",
      " [[3.789 ]\n",
      " [3.0422]]\n",
      "---------------------------------------\n"
     ]
    }
   ],
   "source": [
    "def f2(x, A):\n",
    "    return np.dot(np.dot(np.transpose(x), A), x)\n",
    "\n",
    "def f2_dx(x, A):\n",
    "    return np.dot((A + np.transpose(A)), x)\n",
    "\n",
    "auto_grad = grad(f2)\n",
    "A = np.array([[3, 1],\n",
    "             [4, 2]])\n",
    "\n",
    "for i in range(3):\n",
    "    x = np.random.random((2,1))\n",
    "    print(\"Auto gradient:\\n\", auto_grad(x, A))\n",
    "    print(\"Theoretical gradient:\\n\", f2_dx(x, A))\n",
    "    print(\"---------------------------------------\")"
   ]
  },
  {
   "cell_type": "markdown",
   "id": "0b8f5e42",
   "metadata": {},
   "source": [
    "## 3. Trace of Quadratic: $f(x) = Tr(x^TAx)$\n",
    "\n",
    "Note that the trace of a scalar $n$ is $n$\n",
    "\n",
    "Since $x^TAx$ results in a scalar, the trace of $x^TAx$ is $x^TAx$\n",
    "\n",
    "So, $\\frac{d}{dx}Tr(x^TAx) = \\frac{d}{dx}x^TAx$\n",
    "\n",
    "By question 2, $\\frac{d}{dx}x^TAx = (A+A^T)x$\n",
    "\n",
    "So, $f'(x) = \\boxed{(A+A^T)x}$"
   ]
  },
  {
   "cell_type": "code",
   "execution_count": 27,
   "id": "6fafe2b8",
   "metadata": {},
   "outputs": [
    {
     "name": "stdout",
     "output_type": "stream",
     "text": [
      "Auto gradient:\n",
      " [[3.9821]\n",
      " [3.2287]]\n",
      "Theoretical gradient:\n",
      " [[3.9821]\n",
      " [3.2287]]\n",
      "---------------------------------------\n",
      "Auto gradient:\n",
      " [[6.8218]\n",
      " [5.5687]]\n",
      "Theoretical gradient:\n",
      " [[6.8218]\n",
      " [5.5687]]\n",
      "---------------------------------------\n",
      "Auto gradient:\n",
      " [[9.5159]\n",
      " [7.7819]]\n",
      "Theoretical gradient:\n",
      " [[9.5159]\n",
      " [7.7819]]\n",
      "---------------------------------------\n"
     ]
    }
   ],
   "source": [
    "from numpy import trace\n",
    "def f3(x, A):\n",
    "    return np.trace(np.dot(np.dot(np.transpose(x), A), x))\n",
    "\n",
    "def f3_dx(x, A):\n",
    "    return np.dot((A + np.transpose(A)), x)\n",
    "\n",
    "auto_grad = grad(f3)\n",
    "A = np.array([[3, 1],\n",
    "             [4, 2]])\n",
    "\n",
    "for i in range(3):\n",
    "    x = np.random.random((2,1))\n",
    "    print(\"Auto gradient:\\n\", auto_grad(x, A))\n",
    "    print(\"Theoretical gradient:\\n\", f3_dx(x, A))\n",
    "    print(\"---------------------------------------\")"
   ]
  },
  {
   "cell_type": "markdown",
   "id": "bb45d28a",
   "metadata": {},
   "source": [
    "## 4. Activation Function: $f(w) = ReLU(w^Tx)$\n",
    "\n",
    "let $g = w^Tx$\n",
    "\n",
    "then $f(w) = ReLU(g)$\n",
    "\n",
    "$\\frac{df}{dg} = 1_{g>0} \\hspace{1cm} \\frac{dg}{dw} = x$\n",
    "\n",
    "$f'(w) = \\frac{df}{dg} \\frac{dg}{dw} = 1_{g>0}x = \\boxed{1_{w^Tx>0}x}$"
   ]
  },
  {
   "cell_type": "code",
   "execution_count": 28,
   "id": "6ad87f90",
   "metadata": {},
   "outputs": [
    {
     "name": "stdout",
     "output_type": "stream",
     "text": [
      "Auto gradient:\n",
      " [[0.0233]\n",
      " [0.5436]]\n",
      "Theoretical gradient:\n",
      " [[0.0233]\n",
      " [0.5436]]\n",
      "---------------------------------------\n",
      "Auto gradient:\n",
      " [[0.7088]\n",
      " [0.3383]]\n",
      "Theoretical gradient:\n",
      " [[0.7088]\n",
      " [0.3383]]\n",
      "---------------------------------------\n",
      "Auto gradient:\n",
      " [[0.0469]\n",
      " [0.4053]]\n",
      "Theoretical gradient:\n",
      " [[0.0469]\n",
      " [0.4053]]\n",
      "---------------------------------------\n",
      "Auto gradient:\n",
      " [[0.]\n",
      " [0.]]\n",
      "Theoretical gradient:\n",
      " [[0.]\n",
      " [0.]]\n",
      "---------------------------------------\n",
      "Auto gradient:\n",
      " [[0.4105]\n",
      " [0.8415]]\n",
      "Theoretical gradient:\n",
      " [[0.4105]\n",
      " [0.8415]]\n",
      "---------------------------------------\n"
     ]
    }
   ],
   "source": [
    "def f4(w, x):\n",
    "    return np.maximum(0, np.dot(np.transpose(w), x))\n",
    "\n",
    "def f4_dx(w, x):\n",
    "    if np.dot(np.transpose(w), x) > 0:\n",
    "        return 1 *x\n",
    "    else:\n",
    "        return 0 * x\n",
    "\n",
    "auto_grad = grad(f4)\n",
    "x = np.array([[3],\n",
    "              [1]])\n",
    "\n",
    "for i in range(5):\n",
    "    x = np.random.random((2,1))\n",
    "    w = np.random.randn(2,1)\n",
    "    print(\"Auto gradient:\\n\", auto_grad(w, x))\n",
    "    print(\"Theoretical gradient:\\n\", f4_dx(w, x))\n",
    "    print(\"---------------------------------------\")"
   ]
  },
  {
   "cell_type": "markdown",
   "id": "e4068b50",
   "metadata": {},
   "source": [
    "## 5. Linear Regression: $f(w) = \\frac{1}{n} \\sum_{i=1}^n (w^Tx_i - y_i)^2$\n",
    "\n",
    "let $g = w^Tx_i - y_i$\n",
    "\n",
    "then $f(w) = \\frac{1}{n} \\sum_{i=1}^n (g)^2$\n",
    "\n",
    "$\\frac{df}{dg} = \\sum_{i=1}^n g $\n",
    "\n",
    "$\\frac{dg}{dw} = x_i$\n",
    "\n",
    "$f'(w) = \\frac{df}{dg} \\frac{dg}{dw} = \\boxed{\\sum_{i=1}^n (w^Tx_i - y_i)x_i}$"
   ]
  },
  {
   "cell_type": "code",
   "execution_count": 29,
   "id": "62cae11d",
   "metadata": {},
   "outputs": [
    {
     "name": "stdout",
     "output_type": "stream",
     "text": [
      "Auto gradient:\n",
      " [[-7.1441]\n",
      " [-5.6244]]\n",
      "Theoretical gradient:\n",
      " [[-7.1441]\n",
      " [-5.6244]]\n",
      "---------------------------------------\n",
      "Auto gradient:\n",
      " [[-2.4941]\n",
      " [ 1.0516]]\n",
      "Theoretical gradient:\n",
      " [[-2.4941]\n",
      " [ 1.0516]]\n",
      "---------------------------------------\n"
     ]
    }
   ],
   "source": [
    "def f5(w, x, y):\n",
    "    num = 0\n",
    "    n = x.shape[1]\n",
    "    for xi, yi in zip(x ,y):\n",
    "        xi = np.reshape(xi, (2,1))\n",
    "        num += (np.dot(np.transpose(w), xi) - yi)**2\n",
    "    return num / n\n",
    "\n",
    "def f5_dx(w, x, y):\n",
    "    num = 0\n",
    "    for xi, yi in zip(x,y):\n",
    "        xi = np.reshape(xi, (2,1))\n",
    "        num += (np.dot(np.transpose(w), xi) - yi)*(xi)\n",
    "    return num\n",
    "\n",
    "auto_grad = grad(f5)\n",
    "y = np.array([[3],\n",
    "              [3]])\n",
    "x = np.array([[4, 2],\n",
    "             [2, 4]])\n",
    "\n",
    "for i in range(2):\n",
    "    w = np.random.random((2,1))\n",
    "    print(\"Auto gradient:\\n\", auto_grad(w, x, y))\n",
    "    print(\"Theoretical gradient:\\n\", f5_dx(w, x, y))\n",
    "    print(\"---------------------------------------\")"
   ]
  },
  {
   "cell_type": "markdown",
   "id": "d1dcccd8",
   "metadata": {},
   "source": [
    "## 6. Multivariate Gaussian Tr: $f(x) = e^{-Tr(x^TAx)}$\n",
    "\n",
    "let $g = Tr(x^TAx)$\n",
    "\n",
    "then $f(x) = e^{-g}$\n",
    "\n",
    "$\\frac{df}{dg} = -e^{-g}$\n",
    "\n",
    "$\\frac{dg}{dx} = (A + A^T)x$\n",
    "\n",
    "$f'(x) = \\frac{dg}{dx} \\frac{dg}{dx} = \\boxed{-e^{-Tr(x^TAx)}(A + A^T)x}$"
   ]
  },
  {
   "cell_type": "code",
   "execution_count": 30,
   "id": "b8c1f610",
   "metadata": {},
   "outputs": [
    {
     "name": "stdout",
     "output_type": "stream",
     "text": [
      "Auto gradient:\n",
      " [[-0.0759]\n",
      " [-0.0619]]\n",
      "Theoretical gradient:\n",
      " [[-0.0759]\n",
      " [-0.0619]]\n",
      "---------------------------------------\n",
      "Auto gradient:\n",
      " [[-0.3894]\n",
      " [-0.3224]]\n",
      "Theoretical gradient:\n",
      " [[-0.3894]\n",
      " [-0.3224]]\n",
      "---------------------------------------\n",
      "Auto gradient:\n",
      " [[-0.6877]\n",
      " [-0.5718]]\n",
      "Theoretical gradient:\n",
      " [[-0.6877]\n",
      " [-0.5718]]\n",
      "---------------------------------------\n"
     ]
    }
   ],
   "source": [
    "def f6(x, A):\n",
    "    return np.exp(-np.trace(np.dot(np.dot(np.transpose(x),A), x)))\n",
    "\n",
    "def f6_dx(x, A):\n",
    "    temp = np.exp(-np.trace(np.dot(np.dot(np.transpose(x),A), x)))\n",
    "    return -temp * np.dot((A + np.transpose(A)), x)\n",
    "\n",
    "auto_grad = grad(f6)\n",
    "A = np.array([[3, 1],\n",
    "             [4, 2]])\n",
    "\n",
    "for i in range(3):\n",
    "    x = np.random.random((2,1))\n",
    "    print(\"Auto gradient:\\n\", auto_grad(x, A))\n",
    "    print(\"Theoretical gradient:\\n\", f6_dx(x, A))\n",
    "    print(\"---------------------------------------\")"
   ]
  },
  {
   "cell_type": "markdown",
   "id": "f0626cf5",
   "metadata": {},
   "source": [
    "## 7. Multivariate Gaussian: $f(x) = e^{-x^TAx}$\n",
    "\n",
    "let $g = x^TAx$\n",
    "\n",
    "then $f(x) = e^{-g}$\n",
    "\n",
    "$\\frac{df}{dg} = -e^{-g}$\n",
    "\n",
    "$\\frac{dg}{dx} = (A + A^T)x$\n",
    "\n",
    "$f'(x) = \\frac{dg}{dx} \\frac{dg}{dx} = \\boxed{-e^{x^TAx}(A + A^T)x}$"
   ]
  },
  {
   "cell_type": "code",
   "execution_count": 31,
   "id": "7aa25b38",
   "metadata": {},
   "outputs": [
    {
     "name": "stdout",
     "output_type": "stream",
     "text": [
      "Auto gradient:\n",
      " [[-1.2609]\n",
      " [-1.0161]]\n",
      "Theoretical gradient:\n",
      " [[-1.2609]\n",
      " [-1.0161]]\n",
      "---------------------------------------\n",
      "Auto gradient:\n",
      " [[-1.2006]\n",
      " [-0.9792]]\n",
      "Theoretical gradient:\n",
      " [[-1.2006]\n",
      " [-0.9792]]\n",
      "---------------------------------------\n",
      "Auto gradient:\n",
      " [[-0.1102]\n",
      " [-0.0894]]\n",
      "Theoretical gradient:\n",
      " [[-0.1102]\n",
      " [-0.0894]]\n",
      "---------------------------------------\n"
     ]
    }
   ],
   "source": [
    "def f7(x, A):\n",
    "    return np.exp(-(np.dot(np.dot(np.transpose(x),A), x)))\n",
    "\n",
    "def f7_dx(x, A):\n",
    "    temp = np.exp(-np.trace(np.dot(np.dot(np.transpose(x),A), x)))\n",
    "    return -temp * np.dot((A + np.transpose(A)), x)\n",
    "\n",
    "auto_grad = grad(f7)\n",
    "A = np.array([[3, 1],\n",
    "             [4, 2]])\n",
    "\n",
    "for i in range(3):\n",
    "    x = np.random.random((2,1))\n",
    "    print(\"Auto gradient:\\n\", auto_grad(x, A))\n",
    "    print(\"Theoretical gradient:\\n\", f7_dx(x, A))\n",
    "    print(\"---------------------------------------\")"
   ]
  },
  {
   "cell_type": "markdown",
   "id": "25eda368",
   "metadata": {},
   "source": [
    "## 8. Sigmoid: $f(z) = \\frac{1}{1+e^{-z}}$\n",
    "\n",
    "let $g = 1 + e^{-z}$\n",
    "\n",
    "then $f(z) = g^{-1}$\n",
    "\n",
    "$\\frac{df}{dg} = -g^{-2}$\n",
    "\n",
    "$\\frac{dg}{dw} = -e^z$\n",
    "\n",
    "$f'(z) = \\frac{df}{dg} \\frac{dg}{dw} = \\boxed{(1+e^{-z})^{-2}(e^{-z})}$"
   ]
  },
  {
   "cell_type": "code",
   "execution_count": 32,
   "id": "41cfce68",
   "metadata": {},
   "outputs": [
    {
     "name": "stdout",
     "output_type": "stream",
     "text": [
      "Auto gradient:\n",
      " 0.24123307745311093\n",
      "Theoretical gradient:\n",
      " 0.24123307745311093\n",
      "---------------------------------------\n",
      "Auto gradient:\n",
      " 0.20909280075449063\n",
      "Theoretical gradient:\n",
      " 0.20909280075449063\n",
      "---------------------------------------\n",
      "Auto gradient:\n",
      " 0.2499985782983699\n",
      "Theoretical gradient:\n",
      " 0.2499985782983699\n",
      "---------------------------------------\n"
     ]
    }
   ],
   "source": [
    "def f8(z):\n",
    "    num = 1 + np.exp(-z)\n",
    "    return (1 / num)\n",
    "\n",
    "def f8_dx(z):\n",
    "    num = (1 + np.exp(-z))**2\n",
    "    return np.exp(-z) / num\n",
    "\n",
    "auto_grad = grad(f8)\n",
    "\n",
    "for i in range(3):\n",
    "    z = np.random.rand()\n",
    "    print(\"Auto gradient:\\n\", auto_grad(z))\n",
    "    print(\"Theoretical gradient:\\n\", f8_dx(z))\n",
    "    print(\"---------------------------------------\")"
   ]
  },
  {
   "cell_type": "markdown",
   "id": "29694532",
   "metadata": {},
   "source": [
    "## 9. Logistic Regression Objective: $f(w) = \\frac{1}{1+e^{-w^Tx}}$\n",
    "\n",
    "let $g = (1+e^{-w^Tx})$\n",
    "\n",
    "let $u = w^Tx$\n",
    "\n",
    "then $f(w) = g^{-1}$\n",
    "\n",
    "$\\frac{df}{dg} = -g^{-2}$\n",
    "\n",
    "$\\frac{dg}{du} = -e^{u}$\n",
    "\n",
    "$\\frac{du}{dw} = x$\n",
    "\n",
    "$f'(w) = \\frac{df}{dg} \\frac{dg}{du} \\frac{du}{dw} = \\boxed{(1+e^{-w^Tx})^{-2}(e^{-w^Tx})(x)}$"
   ]
  },
  {
   "cell_type": "code",
   "execution_count": 33,
   "id": "fbcb4d91",
   "metadata": {},
   "outputs": [
    {
     "name": "stdout",
     "output_type": "stream",
     "text": [
      "Auto gradient:\n",
      " [[0.0092]\n",
      " [0.2023]]\n",
      "Theoretical gradient:\n",
      " [[0.0092]\n",
      " [0.2023]]\n",
      "---------------------------------------\n",
      "Auto gradient:\n",
      " [[0.2347]\n",
      " [0.0461]]\n",
      "Theoretical gradient:\n",
      " [[0.2347]\n",
      " [0.0461]]\n",
      "---------------------------------------\n",
      "Auto gradient:\n",
      " [[0.135 ]\n",
      " [0.0298]]\n",
      "Theoretical gradient:\n",
      " [[0.135 ]\n",
      " [0.0298]]\n",
      "---------------------------------------\n"
     ]
    }
   ],
   "source": [
    "def f9(w,x):\n",
    "    num = np.exp(-np.dot(np.transpose(w),x))\n",
    "    return 1 / (1 + num)\n",
    "\n",
    "def f9_dx(w,x):\n",
    "    num = np.exp(-np.dot(np.transpose(w),x))\n",
    "    num1 = (1 + num)**2\n",
    "    return (num / num1)*x\n",
    "\n",
    "auto_grad = grad(f9)\n",
    "\n",
    "for i in range(3):\n",
    "    w = np.random.random((2,1))\n",
    "    x = np.random.random((2,1))\n",
    "    print(\"Auto gradient:\\n\", auto_grad(w,x))\n",
    "    print(\"Theoretical gradient:\\n\", f9_dx(w,x))\n",
    "    print(\"---------------------------------------\")"
   ]
  },
  {
   "cell_type": "markdown",
   "id": "bf9fbb30",
   "metadata": {},
   "source": [
    "## 10. L1 Norm: $f(x) = ||x||_1$\n",
    "\n",
    "$f(x) = |x_1| + |x_2| + ... + |x_n|$\n",
    "\n",
    "Note that $\\frac{d}{dx} |x| = $ the sign of $x$ or $0$ if $x$ is $0$\n",
    "\n",
    "$f'(x) = \n",
    "\\begin{bmatrix}\n",
    "    \\frac{d}{dx_1} |x1| \\\\\n",
    "    \\frac{d}{dx_2} |x2| \\\\\n",
    "    ...\n",
    "\\end{bmatrix} =\n",
    "\\begin{bmatrix}\n",
    "    sign(x_1) \\\\\n",
    "    sign(x_2) \\\\\n",
    "    ...\n",
    "\\end{bmatrix} = \\boxed{sign(x)}$"
   ]
  },
  {
   "cell_type": "code",
   "execution_count": 34,
   "id": "039c9164",
   "metadata": {},
   "outputs": [
    {
     "name": "stdout",
     "output_type": "stream",
     "text": [
      "Auto gradient:\n",
      " [[1.]\n",
      " [1.]]\n",
      "Theoretical gradient:\n",
      " [[1.]\n",
      " [1.]]\n",
      "---------------------------------------\n",
      "Auto gradient:\n",
      " [[ 1.]\n",
      " [-1.]]\n",
      "Theoretical gradient:\n",
      " [[ 1.]\n",
      " [-1.]]\n",
      "---------------------------------------\n",
      "Auto gradient:\n",
      " [[-1.]\n",
      " [-1.]]\n",
      "Theoretical gradient:\n",
      " [[-1.]\n",
      " [-1.]]\n",
      "---------------------------------------\n",
      "Auto gradient:\n",
      " [[1.]\n",
      " [1.]]\n",
      "Theoretical gradient:\n",
      " [[1.]\n",
      " [1.]]\n",
      "---------------------------------------\n"
     ]
    }
   ],
   "source": [
    "def f10(x):\n",
    "    num = 0\n",
    "    for xi in x:\n",
    "        num += np.absolute(xi)\n",
    "    return num\n",
    "\n",
    "def f10_dx(x):\n",
    "    return np.sign(x)\n",
    "\n",
    "auto_grad = grad(f10)\n",
    "\n",
    "for i in range(4):\n",
    "    x = np.random.uniform(-1, 1, (2, 1))\n",
    "    print(\"Auto gradient:\\n\", auto_grad(x))\n",
    "    print(\"Theoretical gradient:\\n\", f10_dx(x))\n",
    "    print(\"---------------------------------------\")"
   ]
  },
  {
   "cell_type": "markdown",
   "id": "b2412429",
   "metadata": {},
   "source": [
    "## 11. L2 Norm: $f(x) = ||x||_2$\n",
    "\n",
    "$f(x) = \\sqrt{x_1^2 + x_2^2 + ... + x_n^2}$ \n",
    "\n",
    "let $g = x_1^2 + x_2^2 + ... + x_n^2$\n",
    "\n",
    "$\\frac{df}{dg} = \\frac{1}{2} g^{\\frac{-1}{2}}$\n",
    "\n",
    "$\\frac{dg}{dx} = \n",
    "\\begin{bmatrix}\n",
    "    \\frac{dg}{dx_1} \\\\\n",
    "    \\frac{dg}{dx_2} \\\\\n",
    "    ...\n",
    "\\end{bmatrix} = \n",
    "\\begin{bmatrix}\n",
    "    2x_1 \\\\\n",
    "    2x_2 \\\\\n",
    "    ...\n",
    "\\end{bmatrix} = 2x$\n",
    "\n",
    "$\\frac{df}{dg} \\frac{dg}{dx} = g^{\\frac{-1}{2}}x = \\boxed{\\frac{1}{||x||_2}x}$"
   ]
  },
  {
   "cell_type": "code",
   "execution_count": 35,
   "id": "83bb23f5",
   "metadata": {},
   "outputs": [
    {
     "name": "stdout",
     "output_type": "stream",
     "text": [
      "Auto gradient:\n",
      " [[0.7487]\n",
      " [0.6629]]\n",
      "Theoretical gradient:\n",
      " [[0.7487]\n",
      " [0.6629]]\n",
      "---------------------------------------\n",
      "Auto gradient:\n",
      " [[-0.8657]\n",
      " [-0.5006]]\n",
      "Theoretical gradient:\n",
      " [[-0.8657]\n",
      " [-0.5006]]\n",
      "---------------------------------------\n",
      "Auto gradient:\n",
      " [[-0.4461]\n",
      " [-0.895 ]]\n",
      "Theoretical gradient:\n",
      " [[-0.4461]\n",
      " [-0.895 ]]\n",
      "---------------------------------------\n",
      "Auto gradient:\n",
      " [[ 0.9196]\n",
      " [-0.3928]]\n",
      "Theoretical gradient:\n",
      " [[ 0.9196]\n",
      " [-0.3928]]\n",
      "---------------------------------------\n"
     ]
    }
   ],
   "source": [
    "def f11(x):\n",
    "    num = 0\n",
    "    for xi in x:\n",
    "        num += xi**2\n",
    "    return np.sqrt(num)\n",
    "\n",
    "def f11_dx(x):\n",
    "    num = 0\n",
    "    for xi in x:\n",
    "        num += xi**2\n",
    "    return (1/np.sqrt(num))*x\n",
    "\n",
    "auto_grad = grad(f11)\n",
    "\n",
    "for i in range(4):\n",
    "    x = np.random.uniform(-1, 1, (2, 1))\n",
    "    print(\"Auto gradient:\\n\", auto_grad(x))\n",
    "    print(\"Theoretical gradient:\\n\", f11_dx(x))\n",
    "    print(\"---------------------------------------\")"
   ]
  },
  {
   "cell_type": "markdown",
   "id": "7d7c245b",
   "metadata": {},
   "source": [
    "## 12. SVM objective: $f(w) = \\sum_{i=1}^n ReLU(1 - y_i \\langle x_i,w \\rangle )$\n",
    "\n",
    "let $g = 1 - y_i \\langle x_i,w \\rangle $\n",
    "\n",
    "so $f(w) = \\sum_{i=1}^n ReLU(g)$\n",
    "\n",
    "$\\frac{df}{dg} = 1_{(g>0)}$\n",
    "\n",
    "$\\frac{dg}{dx} = -y_ix_i$\n",
    "\n",
    "$f'(w) = \\frac{df}{dg} \\frac{dg}{dx} = \\boxed{- \\sum_{i=1}^n 1_{(1 - y_i \\langle x_i,w \\rangle > 0)}y_ix_i}$"
   ]
  },
  {
   "cell_type": "markdown",
   "id": "f7f2556c",
   "metadata": {},
   "source": [
    "## 13. PCA objective: $f(x) = x^TAx - \\lambda(x^Tx - 1)$\n",
    "\n",
    "Note that $\\frac{d}{dx} x^TAx = (A^T + A)x$\n",
    "\n",
    "Also, $x^Tx = x^2$\n",
    "\n",
    "So $\\frac{d}{dx} x^Tx = 2x$\n",
    "\n",
    "$f(x) = x^TAx - \\lambda x^Tx - \\lambda \\cdot 1$\n",
    "\n",
    "$f'(x) = \\boxed{(A^T + A)x - 2 \\lambda x}$"
   ]
  },
  {
   "cell_type": "code",
   "execution_count": 36,
   "id": "e307cf15",
   "metadata": {},
   "outputs": [
    {
     "name": "stdout",
     "output_type": "stream",
     "text": [
      "Auto gradient:\n",
      " [[-103.5923]\n",
      " [  38.1746]]\n",
      "Theoretical gradient:\n",
      " [[-103.5923]\n",
      " [  38.1746]]\n",
      "---------------------------------------\n",
      "Auto gradient:\n",
      " [[68.8252]\n",
      " [23.9579]]\n",
      "Theoretical gradient:\n",
      " [[68.8252]\n",
      " [23.9579]]\n",
      "---------------------------------------\n",
      "Auto gradient:\n",
      " [[-79.7436]\n",
      " [ 32.8307]]\n",
      "Theoretical gradient:\n",
      " [[-79.7436]\n",
      " [ 32.8307]]\n",
      "---------------------------------------\n",
      "Auto gradient:\n",
      " [[54.4492]\n",
      " [20.4606]]\n",
      "Theoretical gradient:\n",
      " [[54.4492]\n",
      " [20.4606]]\n",
      "---------------------------------------\n"
     ]
    }
   ],
   "source": [
    "def f13(x, A, lambd):\n",
    "    num = np.dot(np.dot(np.transpose(x), A), x)\n",
    "    num2 = lambd*(np.dot(np.transpose(x), x) - 1)\n",
    "    return num - num2\n",
    "\n",
    "def f13_dx(x, A, lambd):\n",
    "    return np.dot(np.transpose(A) + A, x) - 2*lambd*x\n",
    "\n",
    "auto_grad = grad(f13)\n",
    "A = np.array([[3, 1],\n",
    "             [4, 2]])\n",
    "lambd = 31\n",
    "\n",
    "for i in range(4):\n",
    "    x = np.random.randn(2,1)\n",
    "    print(\"Auto gradient:\\n\", auto_grad(x, A, lambd))\n",
    "    print(\"Theoretical gradient:\\n\", f13_dx(x, A, lambd))\n",
    "    print(\"---------------------------------------\")"
   ]
  },
  {
   "cell_type": "markdown",
   "id": "c22c9bc4",
   "metadata": {},
   "source": [
    "## 14. Gaussian Maxiumum Likelihood: $f(\\mu) = log(\\prod_i^n \\frac{1}{\\sqrt{2 \\pi \\sigma ^2}} e^{-\\frac{(x_i - \\mu)^2}{2 \\sigma ^2}})$\n",
    "\n",
    "$f(\\mu) = \\sum_i^n ln (\\frac{1}{\\sqrt{2 \\pi \\sigma ^2}} e^{-\\frac{(x_i - \\mu)^2}{2 \\sigma ^2}}) =$\n",
    "\n",
    "$\\sum_i^n ln (\\frac{1}{\\sqrt{2 \\pi \\sigma ^2}}) + \\sum_i^n ln(e^{-\\frac{(x_i - \\mu)^2}{2 \\sigma ^2}})$ = \n",
    "\n",
    "$\\sum_i^n ln(e^{-\\frac{(x_i - \\mu)^2}{2 \\sigma ^2}})$ = \n",
    "\n",
    "$\\sum_i^n \\frac{(x_i - \\mu)^2}{2 \\sigma ^2} -ln(e)$ = \n",
    "\n",
    "$-\\sum_i^n \\frac{(x_i - \\mu)^2}{2 \\sigma ^2}$ = \n",
    "\n",
    "$\\frac{-1}{2 \\sigma ^2}\\sum_i^n (x_i - \\mu)^2$\n",
    "\n",
    "So, $f'(\\mu) = \\frac{-1}{2 \\sigma ^2}\\sum_i^n \\frac{d}{d \\mu} (x_i - \\mu)^2$ =\n",
    "\n",
    "$\\frac{-2}{2 \\sigma ^2}\\sum_i^n (x_i - \\mu) \\cdot -1$ = \n",
    "\n",
    "$\\boxed{\\frac{1}{\\sigma ^2}\\sum_i^n (x_i - \\mu)}$"
   ]
  },
  {
   "cell_type": "code",
   "execution_count": 37,
   "id": "4ac76c10",
   "metadata": {},
   "outputs": [
    {
     "name": "stdout",
     "output_type": "stream",
     "text": [
      "Auto gradient:\n",
      " 0.019693233719917096\n",
      "Theoretical gradient:\n",
      " 0.019693233719917096\n",
      "---------------------------------------\n",
      "Auto gradient:\n",
      " 0.011924280999179391\n",
      "Theoretical gradient:\n",
      " 0.011924280999179393\n",
      "---------------------------------------\n",
      "Auto gradient:\n",
      " 0.01795840584721606\n",
      "Theoretical gradient:\n",
      " 0.017958405847216065\n",
      "---------------------------------------\n"
     ]
    }
   ],
   "source": [
    "def f14(mu, n, pi, sigma, x):\n",
    "    val = 1\n",
    "    for xi in x:\n",
    "        num1 = (xi - mu)**2\n",
    "        num2 = (2*sigma*sigma)\n",
    "        num3 = np.sqrt(2*pi*sigma*sigma)\n",
    "        \n",
    "        num4 = 1 / num3\n",
    "        num5 = num1 / num2\n",
    "        \n",
    "        num6 = np.exp(-num5)\n",
    "        \n",
    "        num7 = num4 * num6\n",
    "        \n",
    "        val = val * num7\n",
    "    return np.log(val)\n",
    "\n",
    "def f14_dx(mu, n, pi, sigma, x):\n",
    "    val = 0\n",
    "    for xi in x:\n",
    "        num = xi - mu\n",
    "        val = val + num\n",
    "    num2 = 1 / (sigma * sigma)\n",
    "    return val * num2\n",
    "\n",
    "auto_grad = grad(f14)\n",
    "\n",
    "n = 3.0\n",
    "pi = np.pi\n",
    "sigma = 31.0\n",
    "\n",
    "for i in range(3):\n",
    "    mu = np.random.rand()\n",
    "    x = np.random.rand(3) * 10\n",
    "    print(\"Auto gradient:\\n\", auto_grad(mu, n, pi, sigma, x))\n",
    "    print(\"Theoretical gradient:\\n\", f14_dx(mu, n, pi, sigma, x))\n",
    "    print(\"---------------------------------------\")"
   ]
  },
  {
   "cell_type": "markdown",
   "id": "77859e71",
   "metadata": {},
   "source": [
    "## 15. Exponential Maxiumum Likelihood: $f(\\lambda) = log( \\prod_i^n \\lambda e^{-\\lambda x_i})$\n",
    "\n",
    "$log(\\prod_i^n \\lambda \\prod_i^n e^{-\\lambda x_i}) = $\n",
    "\n",
    "$log(\\lambda^n \\prod_i^n e^{-\\lambda x_i}) = $\n",
    "\n",
    "$log(\\lambda^n e^{-\\lambda \\sum_i^n x_i}) = $\n",
    "\n",
    "$log(\\lambda^n) + log(e^{-\\lambda \\sum_i^n x_i}) = $\n",
    "\n",
    "\n",
    "$n \\cdot log(\\lambda) + log(e^{-\\lambda \\sum_i^n x_i}) = $\n",
    "\n",
    "$n \\cdot log(\\lambda) + -\\lambda \\sum_i^n x_i \\cdot log(e^{ }) = $\n",
    "\n",
    "$n \\cdot log(\\lambda) + -\\lambda \\sum_i^n x_i = $\n",
    "\n",
    "So, $f'(\\lambda) = \\boxed{\\frac{n}{\\lambda} - \\sum_i^n x_i}$"
   ]
  },
  {
   "cell_type": "code",
   "execution_count": 38,
   "id": "303fe305",
   "metadata": {},
   "outputs": [
    {
     "name": "stdout",
     "output_type": "stream",
     "text": [
      "Auto gradient:\n",
      " 9.624416193530179\n",
      "Theoretical gradient:\n",
      " 9.624416193530177\n",
      "---------------------------------------\n",
      "Auto gradient:\n",
      " 3.204747844841321\n",
      "Theoretical gradient:\n",
      " 3.204747844841321\n",
      "---------------------------------------\n",
      "Auto gradient:\n",
      " 2.4566046969838453\n",
      "Theoretical gradient:\n",
      " 2.4566046969838453\n",
      "---------------------------------------\n"
     ]
    }
   ],
   "source": [
    "def f15(lam, x, n):\n",
    "    val = 1\n",
    "    for xi in x:\n",
    "        num = lam * np.exp(-lam * xi)\n",
    "        val *= num\n",
    "    return np.log(val)\n",
    "\n",
    "def f15_dx(lam, x, n):\n",
    "    num = n / lam\n",
    "    num2 = 0\n",
    "    for xi in x:\n",
    "        num2 += xi\n",
    "    return num - num2\n",
    "\n",
    "auto_grad = grad(f15)\n",
    "\n",
    "n = 3.0\n",
    "for i in range(3):\n",
    "    lam = np.random.rand()\n",
    "    x = np.random.rand(3)\n",
    "    print(\"Auto gradient:\\n\", auto_grad(lam, x, n))\n",
    "    print(\"Theoretical gradient:\\n\", f15_dx(lam, x, n))\n",
    "    print(\"---------------------------------------\")"
   ]
  },
  {
   "cell_type": "markdown",
   "id": "e3bf58aa",
   "metadata": {},
   "source": [
    "## 16. Bernoulli Maxiumum Likelihood: $f(p) = log ( \\prod_i^n p^{a_i}(1-p)^{1-a_i})$\n",
    "\n",
    "$= \\sum_i^n log(p^{a_i}(1-p)^{1-a_i} = $ \n",
    "\n",
    "$\\sum_i^n a_i \\cdot log (p) + (1-a_i)log(1-p) $\n",
    "\n",
    "Note that:\n",
    "\n",
    "$\\frac{d}{dp}log(p) = \\frac{1}{p}$\n",
    "\n",
    "$\\frac{d}{dp}log(1-p) = \\frac{-1}{1-p}$\n",
    "\n",
    "So, $f'(p) = \\sum_i^n (\\frac{a_i}{p} - \\frac{1 - a_i}{1-p})$\n",
    "\n",
    "Note that $\\sum_i^n 1-a_i = 1 \\cdot n - \\sum_i^n a_i$\n",
    "\n",
    "Hence, $f'(p) = \\boxed{\\frac{\\sum_i^n a_i}{p} - \\frac{n - \\sum_i^n a_i}{1-p}}$"
   ]
  },
  {
   "cell_type": "code",
   "execution_count": 39,
   "id": "1c706dcc",
   "metadata": {},
   "outputs": [
    {
     "name": "stdout",
     "output_type": "stream",
     "text": [
      "Auto gradient:\n",
      " 1.6496518746909712\n",
      "Theoretical gradient:\n",
      " 1.6496518746909707\n",
      "---------------------------------------\n",
      "Auto gradient:\n",
      " 3.7526841398532103\n",
      "Theoretical gradient:\n",
      " 3.7526841398532103\n",
      "---------------------------------------\n",
      "Auto gradient:\n",
      " 1.3211411918649296\n",
      "Theoretical gradient:\n",
      " 1.3211411918649296\n",
      "---------------------------------------\n"
     ]
    }
   ],
   "source": [
    "def f16(p, a):\n",
    "    val = 1\n",
    "    for ai in a:\n",
    "        num = np.power(p, ai)*np.power((1-p), 1-ai)\n",
    "        val *= num\n",
    "    return np.log(val)\n",
    "\n",
    "def f16_dx(p, a):\n",
    "    num = np.sum(a)\n",
    "    \n",
    "    one = num / p\n",
    "    \n",
    "    numer = n - num\n",
    "    denom = 1-p\n",
    "    \n",
    "    two = numer / denom\n",
    "    \n",
    "    return one - two\n",
    "\n",
    "auto_grad = grad(f16)\n",
    "\n",
    "a = [1, 0, 1, 0]\n",
    "n = 4\n",
    "for i in range(3):\n",
    "    p = np.random.rand()\n",
    "    print(\"Auto gradient:\\n\", auto_grad(p, a))\n",
    "    print(\"Theoretical gradient:\\n\", f16_dx(p, a))\n",
    "    print(\"---------------------------------------\")"
   ]
  },
  {
   "cell_type": "markdown",
   "id": "e875fff5",
   "metadata": {},
   "source": [
    "## 17. Uniform Maxiumum Likelihood: $f(a,b) = log ( \\prod_i^n \\frac{1}{b-a})$\n",
    "\n",
    "$ = \\sum_i^n log(\\frac{1}{b-a}) = $\n",
    "\n",
    "$\\sum_i^n log((b-a)^{-1})$\n",
    "\n",
    "let g = $b-a$\n",
    "\n",
    "So, $f(a,b) = nlog(g) $\n",
    "\n",
    "$\\frac{df}{dg} = \\frac{-n}{g}$\n",
    "\n",
    "$\\frac{dg}{da} = -1$\n",
    "\n",
    "$\\frac{dg}{db} = 1$\n",
    "\n",
    "$\\frac{df}{dg} \\frac{dg}{da} = \\frac{n}{b-a}$\n",
    "\n",
    "$\\frac{df}{dg} \\frac{dg}{db} = \\frac{-n}{b-a}$\n",
    "\n",
    "$f'(a,b) =\n",
    "\\boxed{\n",
    "\\begin{bmatrix}\n",
    "    \\frac{n}{b-a} \\\\ \n",
    "    \\frac{-n}{b-a}\n",
    "\\end{bmatrix}}$"
   ]
  },
  {
   "cell_type": "code",
   "execution_count": 40,
   "id": "7151e106",
   "metadata": {},
   "outputs": [
    {
     "name": "stdout",
     "output_type": "stream",
     "text": [
      "Auto gradient:\n",
      " 2.2070825491521644\n",
      "Theoretical gradient:\n",
      " [ 2.2071 -2.2071]\n",
      "---------------------------------------\n",
      "Auto gradient:\n",
      " 2.869010533608851\n",
      "Theoretical gradient:\n",
      " [ 2.869 -2.869]\n",
      "---------------------------------------\n",
      "Auto gradient:\n",
      " 3.067063827948752\n",
      "Theoretical gradient:\n",
      " [ 3.0671 -3.0671]\n",
      "---------------------------------------\n"
     ]
    }
   ],
   "source": [
    "def f17(a, b, n):\n",
    "    val = 1.0\n",
    "    num = (1/(b-a))\n",
    "    for ni in range(n):\n",
    "        val *= num\n",
    "    return np.log(val)\n",
    "\n",
    "def f17_dx(a, b, n):\n",
    "    return np.array([n/(b-a), -n/(b-a)])\n",
    "\n",
    "auto_grad = grad(f17)\n",
    "n = 4\n",
    "for i in range(3):\n",
    "    a = np.random.rand()\n",
    "    b = np.random.rand() + 2\n",
    "    print(\"Auto gradient:\\n\", auto_grad(a, b, n))\n",
    "    print(\"Theoretical gradient:\\n\", f17_dx(a, b, n))\n",
    "    print(\"---------------------------------------\")"
   ]
  },
  {
   "cell_type": "markdown",
   "id": "a0026a2c",
   "metadata": {},
   "source": [
    "## Question 6. [30pts] (Use Python for this question) You went around the campus and asked 1000 people 2 questions.\n",
    "\n",
    "• How many hours a week do you spend with the people you truly love?\n",
    "\n",
    "This data can be found in the data folder under ”Time with loved ones”\n",
    "\n",
    "• time_with_loved_ones.csv\n",
    "\n",
    "• happiness.csv\n",
    "\n",
    "• What is your happiness level out of 10?\n",
    "\n",
    "1) Use linear regression by assuming that the data can be described by the function\n",
    "\n",
    "$f(x) = af1(x) + bf2(x)$\n",
    "\n",
    "where\n",
    "\n",
    "f$1(x) = x$ and $f2(x) = 1.$\n",
    "\n",
    "Write your own gradient descent with Python code to find the best a and b values.\n",
    "\n",
    "2) Plot out all the points in blue along with the equation f(x) in red.\n",
    "\n",
    "3) According to your equation f(x), if you spend 15 hours a week with your loved ones, how happy would you be?"
   ]
  },
  {
   "cell_type": "code",
   "execution_count": 41,
   "id": "67a72e27",
   "metadata": {},
   "outputs": [],
   "source": [
    "time_with_loved_ones = genfromtxt('time_with_loved_ones.csv', delimiter = ',')\n",
    "happiness = genfromtxt('happiness_level.csv', delimiter = ',')"
   ]
  },
  {
   "cell_type": "code",
   "execution_count": 42,
   "id": "e6723a57",
   "metadata": {},
   "outputs": [],
   "source": [
    "from numpy.random import randn\n",
    "ones = np.ones((1000, 1))\n",
    "time_with_loved_ones_original = time_with_loved_ones\n",
    "time_with_loved_ones = time_with_loved_ones.reshape(1000, 1)\n",
    "phi = np.hstack((time_with_loved_ones, ones))\n",
    "d = phi.shape[1]\n",
    "w = np.array([[1], [-1]])\n",
    "lr = 0.0075\n",
    "n = phi.shape[0]\n",
    "\n",
    "def f20(w):\n",
    "    num = 0\n",
    "    for xi, yi in zip(phi, happiness):\n",
    "        xi = np.reshape(xi, (d,1))\n",
    "        num += (w.T.dot(xi) - yi)**2\n",
    "    return (num / n).item()\n",
    "def f20_dx(w):\n",
    "    num = 0\n",
    "    for xi, yi in zip(phi, happiness):\n",
    "        xi = np.reshape(xi, (d,1))\n",
    "        num += (w.T.dot(xi) - yi)*(xi)\n",
    "    return (2/n) * num"
   ]
  },
  {
   "cell_type": "code",
   "execution_count": 43,
   "id": "d1abb388",
   "metadata": {},
   "outputs": [
    {
     "name": "stdout",
     "output_type": "stream",
     "text": [
      "Best w:\n",
      "[[0.4011]\n",
      " [0.3009]]\n"
     ]
    }
   ],
   "source": [
    "f20_value_list = []\n",
    "for i in range(1000):\n",
    "    w = w - lr * f20_dx(w)\n",
    "    f20_value_list.append(f20(w))  \n",
    "print(\"Best w:\")\n",
    "print(w)\n"
   ]
  },
  {
   "cell_type": "code",
   "execution_count": 44,
   "id": "984c3ee0",
   "metadata": {},
   "outputs": [
    {
     "data": {
      "image/png": "[encoded data removed]",
      "text/plain": [
       "<Figure size 640x480 with 1 Axes>"
      ]
     },
     "metadata": {},
     "output_type": "display_data"
    }
   ],
   "source": [
    "import matplotlib.pyplot as plt\n",
    "import random\n",
    "a = w[0]\n",
    "b = w[1]\n",
    "\n",
    "x_values = [random.randint(-5, 25) for _ in range(50)]\n",
    "y_values = a * x_values + b \n",
    "\n",
    "plt.plot(x_values, y_values, 'r-') \n",
    "\n",
    "plt.scatter(time_with_loved_ones_original, happiness)\n",
    "plt.xlabel(\"X axis\")\n",
    "plt.ylabel(\"Y axis\")\n",
    "plt.xlim(-3, 25) \n",
    "plt.ylim(-3, 15)\n",
    "plt.show()"
   ]
  },
  {
   "cell_type": "code",
   "execution_count": 45,
   "id": "a64b2785",
   "metadata": {},
   "outputs": [
    {
     "data": {
      "image/png": "[encoded data removed]",
      "text/plain": [
       "<Figure size 640x480 with 1 Axes>"
      ]
     },
     "metadata": {},
     "output_type": "display_data"
    }
   ],
   "source": [
    "plt.plot(f20_value_list)\n",
    "plt.title('MSE over GD')\n",
    "plt.xlabel('steps')\n",
    "plt.ylabel('MSE')\n",
    "plt.show() "
   ]
  },
  {
   "cell_type": "markdown",
   "id": "49626654",
   "metadata": {},
   "source": [
    "# According to your equation f(x), if you spend 15 hours a week with your loved ones, how happy would you be?"
   ]
  },
  {
   "cell_type": "code",
   "execution_count": 46,
   "id": "51cd0435",
   "metadata": {},
   "outputs": [
    {
     "name": "stdout",
     "output_type": "stream",
     "text": [
      "[0.4011]\n",
      "[0.3009]\n",
      "According to f(x), if you spend 15 hours a week with your loved ones, you will have a happiness rating of [5.7149] (on average)\n"
     ]
    }
   ],
   "source": [
    "print(a)\n",
    "print(b)\n",
    "\n",
    "print(f\"According to f(x), if you spend 15 hours a week with your loved ones, you will have a happiness rating of {a*15 - b} (on average)\")"
   ]
  },
  {
   "cell_type": "markdown",
   "id": "4c24a3da",
   "metadata": {},
   "source": []
  },
  {
   "cell_type": "code",
   "execution_count": null,
   "id": "c2fdc576",
   "metadata": {},
   "outputs": [],
   "source": []
  }
 ],
 "metadata": {
  "kernelspec": {
   "display_name": "Python 3 (ipykernel)",
   "language": "python",
   "name": "python3"
  },
  "language_info": {
   "codemirror_mode": {
    "name": "ipython",
    "version": 3
   },
   "file_extension": ".py",
   "mimetype": "text/x-python",
   "name": "python",
   "nbconvert_exporter": "python",
   "pygments_lexer": "ipython3",
   "version": "3.11.5"
  }
 },
 "nbformat": 4,
 "nbformat_minor": 5
}
