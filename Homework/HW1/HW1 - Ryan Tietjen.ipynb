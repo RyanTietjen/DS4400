{
 "cells": [
  {
   "cell_type": "markdown",
   "id": "dac7d867",
   "metadata": {},
   "source": [
    "Professor Wu\n",
    "\n",
    "DS 4400: Machine Learning I\n",
    "\n",
    "Ryan Tietjen\n",
    "\n",
    "9/18/24\n",
    "\n",
    "**Assignment 1**"
   ]
  },
  {
   "cell_type": "markdown",
   "id": "f7768916",
   "metadata": {},
   "source": [
    "## Question 1: Find the transpose for the following matrices and vectors (10 pt)"
   ]
  },
  {
   "cell_type": "markdown",
   "id": "b98c2dbb",
   "metadata": {},
   "source": [
    "$ 1. \n",
    "\\begin{bmatrix}\n",
    "    7 & 4 & 5 & 6 \\\\\n",
    "    2 & 8 & 9 & 7 \\\\\n",
    "    1 & 0 & 2 & 3\n",
    "\\end{bmatrix} \\hspace{1cm}\n",
    "2. \\begin{bmatrix}\n",
    "    a & b \\\\\n",
    "    c & d \\\\\n",
    "    e & f\n",
    "\\end{bmatrix} \\hspace{1cm}\n",
    "3. \\begin{bmatrix}\n",
    "    1 & 2 & 3 & 4 \\\\\n",
    "    5 & 6 & 7 & 8 \\\\\n",
    "    2 & 0 & 0 & 8\n",
    "\\end{bmatrix} \\hspace{1cm}\n",
    "4. \\begin{bmatrix}\n",
    "    2 & 2 & 8 & 10 \\\\\n",
    "\\end{bmatrix} \\hspace{1cm}\n",
    "5. \\begin{bmatrix}\n",
    "    1 \\\\\n",
    "    2 \\\\\n",
    "    2 \\\\\n",
    "    8\n",
    "\\end{bmatrix} \\hspace{1cm}\n",
    "$"
   ]
  },
  {
   "cell_type": "markdown",
   "id": "79ce68d3",
   "metadata": {},
   "source": [
    "1. $\n",
    "\\begin{bmatrix}\n",
    "    7 & 2 & 1 \\\\\n",
    "    4 & 8 & 0 \\\\\n",
    "    5 & 9 & 2 \\\\\n",
    "    6 & 7 & 3\n",
    "\\end{bmatrix}\n",
    "$"
   ]
  },
  {
   "cell_type": "markdown",
   "id": "370f883e",
   "metadata": {},
   "source": [
    "2. $\n",
    "\\begin{bmatrix}\n",
    "    a & c & e \\\\\n",
    "    b & d & f\n",
    "\\end{bmatrix}\n",
    "$"
   ]
  },
  {
   "cell_type": "markdown",
   "id": "aab30118",
   "metadata": {},
   "source": [
    "3. $\n",
    "\\begin{bmatrix}\n",
    "    1 & 5 & 2 \\\\\n",
    "    2 & 6 & 0 \\\\\n",
    "    3 & 7 & 0 \\\\\n",
    "    4 & 8 & 8\n",
    "\\end{bmatrix}\n",
    "$"
   ]
  },
  {
   "cell_type": "markdown",
   "id": "b4047423",
   "metadata": {},
   "source": [
    "4. $\n",
    "\\begin{bmatrix}\n",
    "    2 \\\\\n",
    "    2 \\\\\n",
    "    8 \\\\\n",
    "    10\n",
    "\\end{bmatrix}\n",
    "$"
   ]
  },
  {
   "cell_type": "markdown",
   "id": "960c6a12",
   "metadata": {},
   "source": [
    "5. $\n",
    "\\begin{bmatrix}\n",
    "    1 & 2 & 2 & 8 \\\\\n",
    "\\end{bmatrix}\n",
    "$"
   ]
  },
  {
   "cell_type": "markdown",
   "id": "9ed64a64",
   "metadata": {},
   "source": [
    "## Question 2. Perform following operations. If the dimension doesn’t match, just indicate ”dimension mismatch”. (10 pt)."
   ]
  },
  {
   "cell_type": "markdown",
   "id": "aae72ec5",
   "metadata": {},
   "source": [
    "1. $\n",
    "\\begin{bmatrix}\n",
    "    -4 \\\\\n",
    "    -7\n",
    "\\end{bmatrix} - \n",
    "\\begin{bmatrix}\n",
    "    7 \\\\\n",
    "    3\n",
    "\\end{bmatrix} =\n",
    "\\begin{bmatrix}\n",
    "    -11 \\\\\n",
    "    -10\n",
    "\\end{bmatrix}\n",
    "$"
   ]
  },
  {
   "cell_type": "markdown",
   "id": "ee147a07",
   "metadata": {},
   "source": [
    "2. $\n",
    "\\begin{bmatrix}\n",
    "    -2 \\\\\n",
    "    0 \\\\\n",
    "    3\n",
    "\\end{bmatrix} +\n",
    "\\begin{bmatrix}\n",
    "    2 \\\\\n",
    "    1 \\\\\n",
    "    1\n",
    "\\end{bmatrix} =\n",
    "\\begin{bmatrix}\n",
    "    0 \\\\\n",
    "    1 \\\\\n",
    "    4\n",
    "\\end{bmatrix}\n",
    "$"
   ]
  },
  {
   "cell_type": "markdown",
   "id": "4e868585",
   "metadata": {},
   "source": [
    "3. $\n",
    "\\begin{bmatrix}\n",
    "    1 & 2 & 5\n",
    "\\end{bmatrix} +\n",
    "\\begin{bmatrix}\n",
    "    -7 \\\\\n",
    "    8 \\\\\n",
    "    3\n",
    "\\end{bmatrix} = \n",
    "$\n",
    "dimension mismatch"
   ]
  },
  {
   "cell_type": "markdown",
   "id": "02ce58c6",
   "metadata": {},
   "source": [
    "4. $\n",
    "\\begin{bmatrix}\n",
    "    1 & 2 & 5\n",
    "\\end{bmatrix} +\n",
    "\\begin{bmatrix}\n",
    "    -7 & 8 & 3\n",
    "\\end{bmatrix} = \n",
    "\\begin{bmatrix}\n",
    "    -6 & 10 & 8\n",
    "\\end{bmatrix}\n",
    "$"
   ]
  },
  {
   "cell_type": "markdown",
   "id": "a490783a",
   "metadata": {},
   "source": [
    "5. $\n",
    "\\begin{bmatrix}\n",
    "    1 \\\\\n",
    "    2 \\\\\n",
    "    5 \\\\\n",
    "    0\n",
    "\\end{bmatrix} +\n",
    "\\begin{bmatrix}\n",
    "    -1 \\\\\n",
    "    1 \\\\\n",
    "    3 \\\\\n",
    "    3\n",
    "\\end{bmatrix} =\n",
    "\\begin{bmatrix}\n",
    "    0 \\\\\n",
    "    3 \\\\\n",
    "    8 \\\\\n",
    "    3\n",
    "\\end{bmatrix}\n",
    "$"
   ]
  },
  {
   "cell_type": "markdown",
   "id": "e72aff86",
   "metadata": {},
   "source": [
    "## Question 3. Given"
   ]
  },
  {
   "cell_type": "markdown",
   "id": "97f2bd58",
   "metadata": {},
   "source": [
    "$ x =\n",
    "\\begin{bmatrix}\n",
    "    2 \\\\\n",
    "    2 \\\\\n",
    "    6\n",
    "\\end{bmatrix} \\hspace{1cm}\n",
    "X = \\begin{bmatrix}\n",
    "    -4 & 7 & 5 \\\\\n",
    "    1 & -9 & 2 \\\\\n",
    "    8 & 3 & 6\n",
    "\\end{bmatrix} \\hspace{1cm}\n",
    "Y = \\begin{bmatrix}\n",
    "    2 & 4 & 6 \\\\\n",
    "    1 & 0 & 13 \\\\\n",
    "    -4 & 5 & 5\n",
    "\\end{bmatrix} \\hspace{1cm}\n",
    "Z = \\begin{bmatrix}\n",
    "    4 & -1 & 0 \\\\\n",
    "    1 & 1 & 1\n",
    "\\end{bmatrix} \\hspace{1cm}\n",
    "$"
   ]
  },
  {
   "cell_type": "markdown",
   "id": "0857121b",
   "metadata": {},
   "source": [
    "## Calculate the following: (10 pt)"
   ]
  },
  {
   "cell_type": "markdown",
   "id": "d957aec6",
   "metadata": {},
   "source": [
    "# 1\\) $x^TXY$\n",
    "\n",
    "$\n",
    "x^T =\n",
    "\\begin{bmatrix}\n",
    "    2 & 2 & 6\n",
    "\\end{bmatrix} \\hspace{1cm}\n",
    "$\n",
    "\n",
    "$ x^TX = \n",
    "\\begin{bmatrix}\n",
    "    2 & 2 & 6\n",
    "\\end{bmatrix}\n",
    "\\begin{bmatrix}\n",
    "    -4 & 7 & 5 \\\\\n",
    "    1 & -9 & 2 \\\\\n",
    "    8 & 3 & 6\n",
    "\\end{bmatrix} =\n",
    "\\begin{bmatrix}\n",
    "    2 \\cdot -4  + 2 \\cdot 1 + 6 \\cdot 8 &\n",
    "    2 \\cdot 7  + 2 \\cdot -9 + 6 \\cdot 3 &\n",
    "    2 \\cdot 5  + 2 \\cdot 2 + 6 \\cdot 6\n",
    "\\end{bmatrix} =\n",
    "\\begin{bmatrix}\n",
    "    42 & 14 & 50\n",
    "\\end{bmatrix}\n",
    "$\n",
    "\n",
    "$\n",
    "x^TXY = \n",
    "\\begin{bmatrix}\n",
    "    42 & 14 & 50\n",
    "\\end{bmatrix}\n",
    "\\begin{bmatrix}\n",
    "    2 & 4 & 6 \\\\\n",
    "    1 & 0 & 13 \\\\\n",
    "    -4 & 5 & 5\n",
    "\\end{bmatrix} = \n",
    "\\begin{bmatrix}\n",
    "    42 \\cdot 2 + 14 \\cdot 1 + 50 \\cdot -4 &\n",
    "    42 \\cdot 4 + 50 \\cdot 5 &\n",
    "    42 \\cdot 6 + 14 \\cdot 13 + 50 \\cdot 5\n",
    "\\end{bmatrix} = \n",
    "\\boxed{\n",
    "\\begin{bmatrix}\n",
    "    -102 & 418 & 684\n",
    "\\end{bmatrix}}\n",
    "$"
   ]
  },
  {
   "cell_type": "markdown",
   "id": "95b68682",
   "metadata": {},
   "source": [
    "# 2\\) $YX$\n",
    "\n",
    "$\n",
    "\\begin{bmatrix}\n",
    "    2 & 4 & 6 \\\\\n",
    "    1 & 0 & 13 \\\\\n",
    "    -4 & 5 & 5\n",
    "\\end{bmatrix}\n",
    "\\begin{bmatrix}\n",
    "    -4 & 7 & 5 \\\\\n",
    "    1 & -9 & 2 \\\\\n",
    "    8 & 3 & 6\n",
    "\\end{bmatrix} =\n",
    "\\begin{bmatrix}\n",
    "    2 \\cdot -4 + 4 \\cdot 1 + 6 \\cdot 8 & 2 \\cdot 7 + 4 \\cdot -9 + 6 \\cdot 3 & 2 \\cdot 5 + 4 \\cdot 2 + 6 \\cdot 6 \\\\\n",
    "    1 \\cdot -4 + 0 \\cdot 1 + 13 \\cdot 8 & 1 \\cdot 7 + 0 \\cdot -9 + 13 \\cdot 3 & 1 \\cdot 5 + 0 \\cdot 2 + 13 \\cdot 6 \\\\\n",
    "    -4 \\cdot -4 + 5 \\cdot 1 + 5 \\cdot 8 & -4 \\cdot 7 + 5 \\cdot -9 + 5 \\cdot 3 & -4 \\cdot 5 + 5 \\cdot 2 + 5 \\cdot 6\n",
    "\\end{bmatrix} = \n",
    "\\boxed{\n",
    "\\begin{bmatrix}\n",
    "    44 & -4 & 54 \\\\\n",
    "    100 & 46 & 83 \\\\\n",
    "    61 & -58 & 20\n",
    "\\end{bmatrix}}\n",
    "$"
   ]
  },
  {
   "cell_type": "markdown",
   "id": "bbf91d67",
   "metadata": {},
   "source": [
    "# 3\\) $2X + 2Y + X^TY$\n",
    "\n",
    "$\n",
    "2X = \\begin{bmatrix}\n",
    "    -8 & 14 & 10 \\\\\n",
    "    2 & -18 & 4 \\\\\n",
    "    16 & 6 & 12\n",
    "\\end{bmatrix} \\hspace{1cm}\n",
    "2Y = \\begin{bmatrix}\n",
    "    4 & 8 & 12 \\\\\n",
    "    2 & 0 & 26 \\\\\n",
    "    -8 & 10 & 10\n",
    "\\end{bmatrix} \\hspace{1cm}\n",
    "X^T = \\begin{bmatrix}\n",
    "    -4 & 1 & 8 \\\\\n",
    "    7 & -9 & 3 \\\\\n",
    "    5 & 2 & 6\n",
    "\\end{bmatrix}\n",
    "$\n",
    "\n",
    "$\n",
    "2X + 2Y = \n",
    "\\begin{bmatrix}\n",
    "    -4 & 22 & 22 \\\\\n",
    "    4 & -18 & 30 \\\\\n",
    "    8 & 16 & 22\n",
    "\\end{bmatrix} \\hspace{2cm}\n",
    "X^TY = \n",
    "\\begin{bmatrix}\n",
    "    -4 & 1 & 8 \\\\\n",
    "    7 & -9 & 3 \\\\\n",
    "    5 & 2 & 6\n",
    "\\end{bmatrix}\n",
    "\\begin{bmatrix}\n",
    "    2 & 4 & 6 \\\\\n",
    "    1 & 0 & 13 \\\\\n",
    "    -4 & 5 & 5\n",
    "\\end{bmatrix} =\n",
    "\\begin{bmatrix}\n",
    "    -39 & 24 & 29 \\\\\n",
    "    -7 & 43 & -60 \\\\\n",
    "    -12 & 50 & 86\n",
    "\\end{bmatrix} \n",
    "$\n",
    "\n",
    "$\n",
    "2X + 2Y + X^TY = \n",
    "\\begin{bmatrix}\n",
    "    -4 & 22 & 22 \\\\\n",
    "    4 & -18 & 30 \\\\\n",
    "    8 & 16 & 22\n",
    "\\end{bmatrix} + \n",
    "\\begin{bmatrix}\n",
    "    -39 & 24 & 29 \\\\\n",
    "    -7 & 43 & -60 \\\\\n",
    "    -12 & 50 & 86\n",
    "\\end{bmatrix} =\n",
    "\\boxed{\n",
    "\\begin{bmatrix}\n",
    "    -43 & 46 & 51 \\\\\n",
    "    -3 & 25 & -30 \\\\\n",
    "    -4 & 66 & 108\n",
    "\\end{bmatrix}}\n",
    "$"
   ]
  },
  {
   "cell_type": "markdown",
   "id": "ebe3475d",
   "metadata": {},
   "source": [
    "# 4\\) $YZ^T$\n",
    "\n",
    "$\n",
    "Z^T = \\begin{bmatrix}\n",
    "    4 & 1 \\\\\n",
    "    -1 & 1 \\\\\n",
    "    0 & 1\n",
    "\\end{bmatrix}\n",
    "$\n",
    "\n",
    "$\n",
    "YZ^T = \n",
    "\\begin{bmatrix}\n",
    "    2 & 4 & 6 \\\\\n",
    "    1 & 0 & 13 \\\\\n",
    "    -4 & 5 & 5\n",
    "\\end{bmatrix}\n",
    "\\begin{bmatrix}\n",
    "    4 & 1 \\\\\n",
    "    -1 & 1 \\\\\n",
    "    0 & 1\n",
    "\\end{bmatrix} =\n",
    "\\begin{bmatrix}\n",
    "    2 \\cdot 4 + 4 \\cdot -1 & 2 \\cdot 1 + 4 \\cdot 1 + 6 \\cdot 1 \\\\\n",
    "    1 \\cdot 4 & 1 \\cdot 1 + 13 \\cdot 1\\\\\n",
    "    -4 \\cdot 4 + 5 \\cdot -1 & -4 \\cdot 1 + 5 \\cdot 1 + 5 \\cdot 1\n",
    "\\end{bmatrix} =\n",
    "\\boxed{\n",
    "\\begin{bmatrix}\n",
    "    4 & 12 \\\\\n",
    "    4 & 14 \\\\\n",
    "    -21 & 6\n",
    "\\end{bmatrix}}\n",
    "$"
   ]
  },
  {
   "cell_type": "markdown",
   "id": "c529a570",
   "metadata": {},
   "source": [
    "# 5\\) $Z^TZx$\n",
    "\n",
    "$\n",
    "Z^T = \\begin{bmatrix}\n",
    "    4 & 1 \\\\\n",
    "    -1 & 1 \\\\\n",
    "    0 & 1\n",
    "\\end{bmatrix}\n",
    "$\n",
    "\n",
    "$\n",
    "Zx = \n",
    "\\begin{bmatrix}\n",
    "    4 & -1 & 0 \\\\\n",
    "    1 & 1 & 1\n",
    "\\end{bmatrix}\n",
    "\\begin{bmatrix}\n",
    "    2 \\\\\n",
    "    2 \\\\\n",
    "    6\n",
    "\\end{bmatrix} =\n",
    "\\begin{bmatrix}\n",
    "    4 \\cdot 2 + -1 \\cdot 2 \\\\\n",
    "    2 + 2 + 6\n",
    "\\end{bmatrix} =\n",
    "\\begin{bmatrix}\n",
    "    6 \\\\\n",
    "    10\n",
    "\\end{bmatrix}\n",
    "$\n",
    "\n",
    "$\n",
    "Z^TZx = \n",
    "\\begin{bmatrix}\n",
    "    4 & 1 \\\\\n",
    "    -1 & 1 \\\\\n",
    "    0 & 1\n",
    "\\end{bmatrix}\n",
    "\\begin{bmatrix}\n",
    "    6 \\\\\n",
    "    10\n",
    "\\end{bmatrix} =\n",
    "\\begin{bmatrix}\n",
    "    4 \\cdot 6 + 10 \\\\\n",
    "    -1 \\cdot 6 + 10 \\\\\n",
    "    10\n",
    "\\end{bmatrix} =\n",
    "\\boxed{\n",
    "\\begin{bmatrix}\n",
    "    34 \\\\\n",
    "    4 \\\\\n",
    "    10\n",
    "\\end{bmatrix}}\n",
    "$"
   ]
  },
  {
   "cell_type": "markdown",
   "id": "fb1bd712",
   "metadata": {},
   "source": [
    "## Question 4. Given"
   ]
  },
  {
   "cell_type": "markdown",
   "id": "1fb47a46",
   "metadata": {},
   "source": [
    "$\n",
    "X = \\begin{bmatrix}\n",
    "    -4 & 7 & 5 \\\\\n",
    "    1 & -9 & 2 \\\\\n",
    "    8 & 3 & 6\n",
    "\\end{bmatrix} \\hspace{1cm}\n",
    "Y = \\begin{bmatrix}\n",
    "    0 & 4 & 6 & -8 \\\\\n",
    "    1 & -3 & 5 & 7 \\\\\n",
    "    11 & 13 & 9 & 9 \\\\\n",
    "    -1 & 0 & 8 & 7\n",
    "\\end{bmatrix} \\hspace{1cm}\n",
    "Z = \\begin{bmatrix}\n",
    "    0 & 4 & 8 & 1 \\\\\n",
    "    -3 & 5 & 17 & 11 \n",
    "\\end{bmatrix} \\hspace{1cm}\n",
    "A = \\begin{bmatrix}\n",
    "    1 & 17 \\\\\n",
    "    2 & 14\n",
    "\\end{bmatrix} \\hspace{1cm}\n",
    "$\n",
    "\n",
    "$\n",
    "b = \\begin{bmatrix}\n",
    "    19 & -11 & 13 \n",
    "\\end{bmatrix} \\hspace{1cm}\n",
    "c = \\begin{bmatrix}\n",
    "    12 \\\\\n",
    "    -11 \\\\\n",
    "    10\n",
    "\\end{bmatrix} \\hspace{1cm}\n",
    "x = \\begin{bmatrix}\n",
    "    1 \\\\\n",
    "    2 \\\\\n",
    "    3\n",
    "\\end{bmatrix} \\hspace{1cm}\n",
    "y = \\begin{bmatrix}\n",
    "    3 & 3 & 1 \n",
    "\\end{bmatrix} \\hspace{1cm}\n",
    "$"
   ]
  },
  {
   "cell_type": "code",
   "execution_count": 1,
   "id": "abaa2985",
   "metadata": {},
   "outputs": [],
   "source": [
    "import autograd.numpy as np\n",
    "from autograd.numpy import log\n",
    "from autograd.numpy import exp\n",
    "from autograd import grad\n",
    "from numpy import trace"
   ]
  },
  {
   "cell_type": "code",
   "execution_count": 2,
   "id": "7d43d764",
   "metadata": {},
   "outputs": [],
   "source": [
    "X = np.array([[-4, 7, 5],\n",
    "             [1, -9, 2],\n",
    "             [8, 3, 6]])\n",
    "Y = np.array([[0, 4, 6, -8],\n",
    "             [1, -3, 5, 7],\n",
    "             [11, 13, 9, 9],\n",
    "             [-1, 0, 8, 7]])\n",
    "Z = np.array([[0, 4, 8, 1],\n",
    "             [-3, 5, 17, 11]])\n",
    "A = np.array([[1, 17],\n",
    "             [2, 14]])\n",
    "b = np.array([[19, -11, 13]])\n",
    "c = np.array([[12],\n",
    "             [-11],\n",
    "             [10]])\n",
    "x = np.array([[1],\n",
    "             [2],\n",
    "             [3]])\n",
    "y = np.array([[3, 3, 1]])"
   ]
  },
  {
   "cell_type": "markdown",
   "id": "2fab672c",
   "metadata": {},
   "source": [
    "# Calculate both by hand and by numpy the following (20 pt):"
   ]
  },
  {
   "cell_type": "markdown",
   "id": "fc96e865",
   "metadata": {},
   "source": [
    "# 1\\) $xyy^Tx^T$\n",
    "\n",
    "$\n",
    "x^T = \\begin{bmatrix}\n",
    "    1 & 2 & 3\n",
    "\\end{bmatrix} \\hspace{1cm}\n",
    "y^T = \\begin{bmatrix}\n",
    "    3 \\\\\n",
    "    3 \\\\\n",
    "    1\n",
    "\\end{bmatrix} \\hspace{1cm}\n",
    "$\n",
    "\n",
    "$\n",
    "xy = \n",
    "\\begin{bmatrix}\n",
    "    1 \\\\\n",
    "    2 \\\\\n",
    "    3\n",
    "\\end{bmatrix}\n",
    "\\begin{bmatrix}\n",
    "    3 & 3 & 1 \n",
    "\\end{bmatrix} = \n",
    "\\begin{bmatrix}\n",
    "    3 & 3 & 1 \\\\\n",
    "    6 & 6 & 2 \\\\\n",
    "    9 & 9 & 3\n",
    "\\end{bmatrix} \n",
    "$\n",
    "\n",
    "$\n",
    "xyy^T = \n",
    "\\begin{bmatrix}\n",
    "    3 & 3 & 1 \\\\\n",
    "    6 & 6 & 2 \\\\\n",
    "    9 & 9 & 3\n",
    "\\end{bmatrix} \n",
    "\\begin{bmatrix}\n",
    "    3 \\\\\n",
    "    3 \\\\\n",
    "    1\n",
    "\\end{bmatrix} = \n",
    "\\begin{bmatrix}\n",
    "    3 \\cdot 3 + 3 \\cdot 3 + 1 \\cdot 1\\\\\n",
    "    6 \\cdot 3 + 6 \\cdot 3 + 2 \\cdot 1 \\\\\n",
    "    9 \\cdot 3 + 9 \\cdot 3 + 3 \\cdot 1\n",
    "\\end{bmatrix} = \n",
    "\\begin{bmatrix}\n",
    "    19 \\\\\n",
    "    38 \\\\\n",
    "    57\n",
    "\\end{bmatrix}\n",
    "$\n",
    "\n",
    "$\n",
    "xyy^Tx^T = \n",
    "\\begin{bmatrix}\n",
    "    19 \\\\\n",
    "    38 \\\\\n",
    "    57\n",
    "\\end{bmatrix}\n",
    "\\begin{bmatrix}\n",
    "    1 & 2 & 3\n",
    "\\end{bmatrix} =\n",
    "\\boxed{\n",
    "\\begin{bmatrix}\n",
    "    19 & 38 & 57 \\\\\n",
    "    38 & 76 & 114 \\\\\n",
    "    57 & 114 & 171\n",
    "\\end{bmatrix}}\n",
    "$"
   ]
  },
  {
   "cell_type": "code",
   "execution_count": 3,
   "id": "0af49dcb",
   "metadata": {},
   "outputs": [
    {
     "name": "stdout",
     "output_type": "stream",
     "text": [
      "[[ 19  38  57]\n",
      " [ 38  76 114]\n",
      " [ 57 114 171]]\n"
     ]
    }
   ],
   "source": [
    "print(x.dot(y).dot(y.T).dot(x.T))"
   ]
  },
  {
   "cell_type": "markdown",
   "id": "79d45893",
   "metadata": {},
   "source": [
    "# 2\\) 3c - 9\n",
    "\n",
    "$\n",
    "3c - 9 = 3\n",
    "\\begin{bmatrix}\n",
    "    12 \\\\\n",
    "    -11 \\\\\n",
    "    10\n",
    "\\end{bmatrix} - 9 = \n",
    "\\begin{bmatrix}\n",
    "    36 \\\\\n",
    "    -33 \\\\\n",
    "    30\n",
    "\\end{bmatrix} - 9 =\n",
    "\\boxed{\n",
    "\\begin{bmatrix}\n",
    "    27 \\\\\n",
    "    -42 \\\\\n",
    "    21\n",
    "\\end{bmatrix}}\n",
    "$"
   ]
  },
  {
   "cell_type": "code",
   "execution_count": 4,
   "id": "9ef1d93c",
   "metadata": {},
   "outputs": [
    {
     "name": "stdout",
     "output_type": "stream",
     "text": [
      "[[ 27]\n",
      " [-42]\n",
      " [ 21]]\n"
     ]
    }
   ],
   "source": [
    "print((3*c) - 9)"
   ]
  },
  {
   "cell_type": "markdown",
   "id": "67e88baa",
   "metadata": {},
   "source": [
    "# 3\\) $\\langle A, A \\rangle \\cdot A$\n",
    "\n",
    "$\n",
    "A^T = \\begin{bmatrix}\n",
    "    1 & 2 \\\\\n",
    "    17 & 14\n",
    "\\end{bmatrix}\n",
    "$\n",
    "\n",
    "$\n",
    "AA^T = \n",
    "\\begin{bmatrix}\n",
    "    1 & 17 \\\\\n",
    "    2 & 14\n",
    "\\end{bmatrix}\n",
    "\\begin{bmatrix}\n",
    "    1 & 2 \\\\\n",
    "    17 & 14\n",
    "\\end{bmatrix} = \n",
    "\\begin{bmatrix}\n",
    "    1 \\cdot 1 + 17 \\cdot 17 & 1 \\cdot 2 + 17 \\cdot 14 \\\\\n",
    "    2 \\cdot 1 + 14 \\cdot 17 & 2 \\cdot 2 + 14 \\cdot 14\n",
    "\\end{bmatrix} = \n",
    "\\begin{bmatrix}\n",
    "    290 & 240 \\\\\n",
    "    240 & 200\n",
    "\\end{bmatrix}\n",
    "$\n",
    "\n",
    "trace(\n",
    "$\n",
    "AA^T\n",
    "$) $= 290 + 200 = 490$\n",
    "\n",
    "$\n",
    "490 \\cdot\n",
    "\\begin{bmatrix}\n",
    "    1 & 17 \\\\\n",
    "    2 & 14\n",
    "\\end{bmatrix} = \n",
    "\\boxed{\n",
    "\\begin{bmatrix}\n",
    "    490 & 8330 \\\\\n",
    "    980 & 6860\n",
    "\\end{bmatrix} }\n",
    "$"
   ]
  },
  {
   "cell_type": "code",
   "execution_count": 5,
   "id": "3ee4a97d",
   "metadata": {},
   "outputs": [
    {
     "name": "stdout",
     "output_type": "stream",
     "text": [
      "[[ 490 8330]\n",
      " [ 980 6860]]\n"
     ]
    }
   ],
   "source": [
    "print(trace(A.dot(A.T)) * (A))"
   ]
  },
  {
   "cell_type": "markdown",
   "id": "a4ab73cd",
   "metadata": {},
   "source": [
    "# 4\\) $2XZ$\n",
    "\n",
    "dimension mismatch :O"
   ]
  },
  {
   "cell_type": "code",
   "execution_count": 6,
   "id": "644c2aa4",
   "metadata": {},
   "outputs": [
    {
     "name": "stdout",
     "output_type": "stream",
     "text": [
      "Error: shapes (3,3) and (2,4) not aligned: 3 (dim 1) != 2 (dim 0)\n"
     ]
    }
   ],
   "source": [
    "try:\n",
    "    print(2 * X.dot(Z))\n",
    "except ValueError as e:\n",
    "    print(\"Error:\", e)"
   ]
  },
  {
   "cell_type": "markdown",
   "id": "41170015",
   "metadata": {},
   "source": [
    "# 5\\) $(bc)A$\n",
    "\n",
    "$\n",
    "\\begin{bmatrix}\n",
    "    19 & -11 & 13 \n",
    "\\end{bmatrix}\n",
    "\\begin{bmatrix}\n",
    "    12 \\\\\n",
    "    -11 \\\\\n",
    "    10\n",
    "\\end{bmatrix} =\n",
    "19 \\cdot 12 + -11 \\cdot -11 + 13 \\cdot 10 = 479\n",
    "$\n",
    "\n",
    "$\n",
    "479 \\cdot\n",
    "\\begin{bmatrix}\n",
    "    1 & 17 \\\\\n",
    "    2 & 14\n",
    "\\end{bmatrix} = \n",
    "\\boxed{\n",
    "\\begin{bmatrix}\n",
    "    479 & 8143 \\\\\n",
    "    958 & 6706\n",
    "\\end{bmatrix}}\n",
    "$"
   ]
  },
  {
   "cell_type": "code",
   "execution_count": 7,
   "id": "c0e616a9",
   "metadata": {},
   "outputs": [
    {
     "name": "stdout",
     "output_type": "stream",
     "text": [
      "[[ 479 8143]\n",
      " [ 958 6706]]\n"
     ]
    }
   ],
   "source": [
    "print(b.dot(c) * (A))"
   ]
  },
  {
   "cell_type": "markdown",
   "id": "e02811fb",
   "metadata": {},
   "source": [
    "# 6\\) $bXA$\n",
    "\n",
    "$\n",
    "XA = $dimension mismatch :O\n",
    "$"
   ]
  },
  {
   "cell_type": "code",
   "execution_count": 8,
   "id": "86d4862e",
   "metadata": {},
   "outputs": [
    {
     "name": "stdout",
     "output_type": "stream",
     "text": [
      "Error: shapes (1,3) and (2,2) not aligned: 3 (dim 1) != 2 (dim 0)\n"
     ]
    }
   ],
   "source": [
    "try:\n",
    "    print(b.dot(X).dot(A))\n",
    "except ValueError as e:\n",
    "    print(\"Error:\", e)"
   ]
  },
  {
   "cell_type": "markdown",
   "id": "6de01de8",
   "metadata": {},
   "source": [
    "# 7\\) $c\\odot x$\n",
    "\n",
    "$\n",
    "\\begin{bmatrix}\n",
    "    12 \\\\\n",
    "    -11 \\\\\n",
    "    10\n",
    "\\end{bmatrix} \\odot\n",
    "\\begin{bmatrix}\n",
    "    1 \\\\\n",
    "    2 \\\\\n",
    "    3\n",
    "\\end{bmatrix} = \n",
    "\\begin{bmatrix}\n",
    "    12 \\cdot 1 \\\\\n",
    "    -11 \\cdot 2 \\\\\n",
    "    10 \\cdot 3\n",
    "\\end{bmatrix} =\n",
    "\\boxed{\n",
    "\\begin{bmatrix}\n",
    "    12 \\\\\n",
    "    -22 \\\\\n",
    "    30\n",
    "\\end{bmatrix}}\n",
    "$"
   ]
  },
  {
   "cell_type": "code",
   "execution_count": 9,
   "id": "c9943ebc",
   "metadata": {},
   "outputs": [
    {
     "name": "stdout",
     "output_type": "stream",
     "text": [
      "[[ 12]\n",
      " [-22]\n",
      " [ 30]]\n"
     ]
    }
   ],
   "source": [
    "print(c * x)"
   ]
  },
  {
   "cell_type": "markdown",
   "id": "c5dfab87",
   "metadata": {},
   "source": [
    "# 8\\) $b\\odot y$\n",
    "\n",
    "$\n",
    "\\begin{bmatrix}\n",
    "    19 & -11 & 13 \n",
    "\\end{bmatrix} \\odot\n",
    "\\begin{bmatrix}\n",
    "    3 & 3 & 1 \n",
    "\\end{bmatrix} =\n",
    "\\begin{bmatrix}\n",
    "    19 \\cdot 3 & -11 \\cdot 3 & 13 \\cdot 1 \n",
    "\\end{bmatrix} = \n",
    "\\boxed{\n",
    "\\begin{bmatrix}\n",
    "    57 & -33 & 13 \n",
    "\\end{bmatrix}}\n",
    "$"
   ]
  },
  {
   "cell_type": "code",
   "execution_count": 10,
   "id": "c7e37790",
   "metadata": {},
   "outputs": [
    {
     "name": "stdout",
     "output_type": "stream",
     "text": [
      "[[ 57 -33  13]]\n"
     ]
    }
   ],
   "source": [
    "print(b * y)"
   ]
  },
  {
   "cell_type": "markdown",
   "id": "26026bca",
   "metadata": {},
   "source": [
    "# 9\\) $c \\otimes x$\n",
    "\n",
    "$\n",
    "cx^T = \n",
    "\\begin{bmatrix}\n",
    "    12 \\\\\n",
    "    -11 \\\\\n",
    "    10\n",
    "\\end{bmatrix}\n",
    "\\begin{bmatrix}\n",
    "    1 & 2 & 3\n",
    "\\end{bmatrix} = \n",
    "\\begin{bmatrix}\n",
    "    12 \\cdot 1 & 12 \\cdot 2 & 12 \\cdot 3 \\\\\n",
    "    -11 \\cdot 1 & -11 \\cdot 2 & -11 \\cdot 3 \\\\\n",
    "    10 \\cdot 1 & 10 \\cdot 2 & 10 \\cdot 3 \n",
    "\\end{bmatrix}=\n",
    "\\boxed{\n",
    "\\begin{bmatrix}\n",
    "    12 & 24 & 36 \\\\\n",
    "    -11 & -22 & -33 \\\\\n",
    "    10 & 20 & 30\n",
    "\\end{bmatrix}\n",
    "}\n",
    "$"
   ]
  },
  {
   "cell_type": "code",
   "execution_count": 11,
   "id": "2080a546",
   "metadata": {},
   "outputs": [
    {
     "name": "stdout",
     "output_type": "stream",
     "text": [
      "[[ 12  24  36]\n",
      " [-11 -22 -33]\n",
      " [ 10  20  30]]\n"
     ]
    }
   ],
   "source": [
    "print(c.dot(x.T))"
   ]
  },
  {
   "cell_type": "markdown",
   "id": "a1dfcfa1",
   "metadata": {},
   "source": [
    "# 10\\) $YZ^T$\n",
    "\n",
    "$\n",
    "Z^T = \n",
    "\\begin{bmatrix}\n",
    "    0 & 3 \\\\\n",
    "    4 & 5 \\\\\n",
    "    8 & 17 \\\\\n",
    "    1 & 11\n",
    "\\end{bmatrix}\n",
    "$\n",
    "\n",
    "$\n",
    "YZ^T = \n",
    "\\begin{bmatrix}\n",
    "    0 & 4 & 6 & -8 \\\\\n",
    "    1 & -3 & 5 & 7 \\\\\n",
    "    11 & 13 & 9 & 9 \\\\\n",
    "    -1 & 0 & 8 & 7\n",
    "\\end{bmatrix}\n",
    "\\begin{bmatrix}\n",
    "    0 & 3 \\\\\n",
    "    4 & 5 \\\\\n",
    "    8 & 17 \\\\\n",
    "    1 & 11\n",
    "\\end{bmatrix} = \n",
    "\\begin{bmatrix}\n",
    "    0 \\cdot 0 + 4 \\cdot 4 + 6 \\cdot 8 + -8 \\cdot 1 & 0 \\cdot 3 + 4 \\cdot 5 + 6 \\cdot 17 + -8 \\cdot 11  \\\\\n",
    "    1 \\cdot 0 + -3 \\cdot 4 + 5 \\cdot 8 + 7 \\cdot 1 & 1 \\cdot 3 + -3 \\cdot 5 + 5 \\cdot 17 + 7 \\cdot 11 \\\\\n",
    "    11 \\cdot 0 + 13 \\cdot 4 + 9 \\cdot 8 + 9 \\cdot 1 & 11 \\cdot 3 + 13 \\cdot 5 + 9 \\cdot 17 + 9 \\cdot 11 \\\\\n",
    "    -1 \\cdot 0 + 0 \\cdot 4 + 8 \\cdot 8 + 7 \\cdot 1 & -1 \\cdot 3 + 0 \\cdot 5 + 8 \\cdot 17 + 7 \\cdot 11\n",
    "\\end{bmatrix} =\n",
    "\\boxed{\n",
    "\\begin{bmatrix}\n",
    "    56 & 34 \\\\\n",
    "    35 & 144 \\\\\n",
    "    133 & 284 \\\\\n",
    "    71 & 216\n",
    "\\end{bmatrix}\n",
    "}\n",
    "$"
   ]
  },
  {
   "cell_type": "code",
   "execution_count": 12,
   "id": "f9031ec2",
   "metadata": {},
   "outputs": [
    {
     "name": "stdout",
     "output_type": "stream",
     "text": [
      "[[ 56  34]\n",
      " [ 35 144]\n",
      " [133 284]\n",
      " [ 71 216]]\n"
     ]
    }
   ],
   "source": [
    "print(Y.dot(Z.T))"
   ]
  },
  {
   "cell_type": "markdown",
   "id": "d96ca532",
   "metadata": {},
   "source": [
    "## Question 5. Write the code that performs the following operations using numpy. Make sure you print the results. (20 pt)"
   ]
  },
  {
   "cell_type": "markdown",
   "id": "d535e34a",
   "metadata": {},
   "source": [
    "• Create two matrices and two vectors\n",
    "\n",
    "$\n",
    "X = \\begin{bmatrix}\n",
    "    2 & 3 \\\\\n",
    "    9 & 1\n",
    "\\end{bmatrix} \\hspace{1cm}\n",
    "Y = \\begin{bmatrix}\n",
    "    1 & 0 \\\\\n",
    "    2 & 1\n",
    "\\end{bmatrix} \\hspace{1cm}\n",
    "x = \\begin{bmatrix}\n",
    "    1 \\\\\n",
    "    3 \n",
    "\\end{bmatrix} \\hspace{1cm}\n",
    "y = \\begin{bmatrix}\n",
    "    2 \\\\\n",
    "    4 \n",
    "\\end{bmatrix} \\hspace{1cm}\n",
    "$"
   ]
  },
  {
   "cell_type": "code",
   "execution_count": 13,
   "id": "86aa0117",
   "metadata": {},
   "outputs": [],
   "source": [
    "X = np.array([[2, 3],\n",
    "             [9, 1]])\n",
    "Y = np.array([[1, 0],\n",
    "             [2, 1]])\n",
    "x = np.array([[1],\n",
    "             [3]])\n",
    "y = np.array([[2],\n",
    "             [4]])"
   ]
  },
  {
   "cell_type": "markdown",
   "id": "2e4233ce",
   "metadata": {},
   "source": [
    "• Write the code that extracts the 1st column of $X$."
   ]
  },
  {
   "cell_type": "code",
   "execution_count": 14,
   "id": "ac918fd4",
   "metadata": {},
   "outputs": [
    {
     "name": "stdout",
     "output_type": "stream",
     "text": [
      "[2 9]\n"
     ]
    }
   ],
   "source": [
    "print(X[:, 0])"
   ]
  },
  {
   "cell_type": "markdown",
   "id": "c85989fc",
   "metadata": {},
   "source": [
    "• Write the code that extracts the 2nd row of $Y$."
   ]
  },
  {
   "cell_type": "code",
   "execution_count": 15,
   "id": "564aa8b5",
   "metadata": {},
   "outputs": [
    {
     "name": "stdout",
     "output_type": "stream",
     "text": [
      "[2 1]\n"
     ]
    }
   ],
   "source": [
    "print(Y[1,:])"
   ]
  },
  {
   "cell_type": "markdown",
   "id": "f48a8e59",
   "metadata": {},
   "source": [
    "• Write the code that extracts the bottom right value of $X$."
   ]
  },
  {
   "cell_type": "code",
   "execution_count": 16,
   "id": "ff1d7024",
   "metadata": {},
   "outputs": [
    {
     "name": "stdout",
     "output_type": "stream",
     "text": [
      "1\n"
     ]
    }
   ],
   "source": [
    "print(X[-1, -1])"
   ]
  },
  {
   "cell_type": "markdown",
   "id": "a55c5dbf",
   "metadata": {},
   "source": [
    "• Write the code that adds $X + Y$."
   ]
  },
  {
   "cell_type": "code",
   "execution_count": 17,
   "id": "3426597b",
   "metadata": {},
   "outputs": [
    {
     "name": "stdout",
     "output_type": "stream",
     "text": [
      "[[ 3  3]\n",
      " [11  2]]\n"
     ]
    }
   ],
   "source": [
    "print(X + Y)"
   ]
  },
  {
   "cell_type": "markdown",
   "id": "4e374759",
   "metadata": {},
   "source": [
    "• Write the code that performs $X + YX$."
   ]
  },
  {
   "cell_type": "code",
   "execution_count": 18,
   "id": "2183ec60",
   "metadata": {},
   "outputs": [
    {
     "name": "stdout",
     "output_type": "stream",
     "text": [
      "[[ 4  6]\n",
      " [22  8]]\n"
     ]
    }
   ],
   "source": [
    "print(X + Y.dot(X))"
   ]
  },
  {
   "cell_type": "markdown",
   "id": "c830bfc1",
   "metadata": {},
   "source": [
    "• Write the code that performs the Hadamard product $x$ ⊙ $y$."
   ]
  },
  {
   "cell_type": "code",
   "execution_count": 19,
   "id": "58e5f4e5",
   "metadata": {},
   "outputs": [
    {
     "name": "stdout",
     "output_type": "stream",
     "text": [
      "[[ 2]\n",
      " [12]]\n"
     ]
    }
   ],
   "source": [
    "print(x*y)"
   ]
  },
  {
   "cell_type": "markdown",
   "id": "f54bb734",
   "metadata": {},
   "source": [
    "• Write the code that performs the outer product $x$ ⊗ $y$."
   ]
  },
  {
   "cell_type": "code",
   "execution_count": 20,
   "id": "54f329e7",
   "metadata": {},
   "outputs": [
    {
     "name": "stdout",
     "output_type": "stream",
     "text": [
      "[[ 2  4]\n",
      " [ 6 12]]\n"
     ]
    }
   ],
   "source": [
    "print(x.dot(y.T))"
   ]
  },
  {
   "cell_type": "markdown",
   "id": "1fb083cc",
   "metadata": {},
   "source": [
    "• Write the code that performs the dot product $XY$."
   ]
  },
  {
   "cell_type": "code",
   "execution_count": 21,
   "id": "6cb1f2d4",
   "metadata": {},
   "outputs": [
    {
     "name": "stdout",
     "output_type": "stream",
     "text": [
      "[[ 8  3]\n",
      " [11  1]]\n"
     ]
    }
   ],
   "source": [
    "print(X.dot(Y))"
   ]
  },
  {
   "cell_type": "markdown",
   "id": "b27c7abf",
   "metadata": {},
   "source": [
    "• Write the code that performs the inner product $⟨X, Y⟩$."
   ]
  },
  {
   "cell_type": "code",
   "execution_count": 22,
   "id": "a43dcc75",
   "metadata": {},
   "outputs": [
    {
     "name": "stdout",
     "output_type": "stream",
     "text": [
      "21\n"
     ]
    }
   ],
   "source": [
    "print(trace(X.dot(Y.T)))"
   ]
  },
  {
   "cell_type": "markdown",
   "id": "c2f860c2",
   "metadata": {},
   "source": [
    "## Question 6. (20 pt) Given vectors"
   ]
  },
  {
   "cell_type": "markdown",
   "id": "7d9d0e5c",
   "metadata": {},
   "source": [
    "$\n",
    "v = \\begin{bmatrix}\n",
    "    5 \\\\\n",
    "    0 \\\\\n",
    "    0\n",
    "\\end{bmatrix} \\hspace{1cm}\n",
    "w = \\begin{bmatrix}\n",
    "    8 \\\\\n",
    "    1 \\\\\n",
    "    1\n",
    "\\end{bmatrix} \\hspace{1cm}\n",
    "x = \\begin{bmatrix}\n",
    "    3 \\\\\n",
    "    1 \\\\\n",
    "    2\n",
    "\\end{bmatrix} \\hspace{1cm}\n",
    "y= \\begin{bmatrix}\n",
    "    2\\\\\n",
    "    1 \\\\\n",
    "    0 \\\\\n",
    "    3\n",
    "\\end{bmatrix} \\hspace{1cm}\n",
    "z= \\begin{bmatrix}\n",
    "    2 \\\\\n",
    "    5\n",
    "\\end{bmatrix}\n",
    "$\n",
    "\n",
    "• For each vector, calculate the L1-norm, L2-norm and L-infinity norm.\n",
    "\n",
    "• Once you have calculated the norms, use numpy to show that your calculation is correct."
   ]
  },
  {
   "cell_type": "code",
   "execution_count": 23,
   "id": "64aac91a",
   "metadata": {},
   "outputs": [],
   "source": [
    "v = np.array([5, 0, 0])\n",
    "w = np.array([8, 1, 1])\n",
    "x = np.array([3, 1, 2])\n",
    "y = np.array([2, 1, 0, 3])\n",
    "z = np.array([2, 5])"
   ]
  },
  {
   "cell_type": "markdown",
   "id": "069fd01a",
   "metadata": {},
   "source": [
    "$||v||_1 = |5| + |0| + |0| = 5$\n",
    "\n",
    "$||v||_2 = \\sqrt{(5^2 + 0^2 + 0^2)} = 5$\n",
    "\n",
    "$||v||_\\infty = max(5, 0, 0) = 5$"
   ]
  },
  {
   "cell_type": "code",
   "execution_count": 24,
   "id": "fe108ecd",
   "metadata": {},
   "outputs": [
    {
     "name": "stdout",
     "output_type": "stream",
     "text": [
      "v: L1 norm: 5.0\n",
      "v: L2 norm: 5.0\n",
      "v: L inf norm: 5.0\n"
     ]
    }
   ],
   "source": [
    "print(f\"v: L1 norm: {np.linalg.norm(v, ord=1)}\")\n",
    "print(f\"v: L2 norm: {np.linalg.norm(v, ord=2)}\")\n",
    "print(f\"v: L inf norm: {np.linalg.norm(v, ord=np.inf)}\")"
   ]
  },
  {
   "cell_type": "markdown",
   "id": "a621a8b3",
   "metadata": {},
   "source": [
    "$||w||_1 = |8| + |1| + |1| = 10$\n",
    "\n",
    "$||w||_2 = \\sqrt{(8^2 + 1^2 + 1^2)} = \\sqrt{66} \\approx 8.12$\n",
    "\n",
    "$||w||_\\infty = max(8, 1, 1) = 8$"
   ]
  },
  {
   "cell_type": "code",
   "execution_count": 25,
   "id": "4815efcb",
   "metadata": {},
   "outputs": [
    {
     "name": "stdout",
     "output_type": "stream",
     "text": [
      "w: L1 norm: 10.0\n",
      "w: L2 norm: 8.12403840463596\n",
      "w: L inf norm: 8.0\n"
     ]
    }
   ],
   "source": [
    "print(f\"w: L1 norm: {np.linalg.norm(w, ord=1)}\")\n",
    "print(f\"w: L2 norm: {np.linalg.norm(w, ord=2)}\")\n",
    "print(f\"w: L inf norm: {np.linalg.norm(w, ord=np.inf)}\")"
   ]
  },
  {
   "cell_type": "markdown",
   "id": "95e9d0b8",
   "metadata": {},
   "source": [
    "$||x||_1 = |3| + |1| + |2| = 6$\n",
    "\n",
    "$||x||_2 = \\sqrt{(3^2 + 1^2 + 2^2)} = \\sqrt{14} \\approx 3.74$\n",
    "\n",
    "$||x||_\\infty = max(3, 1, 2) = 3$"
   ]
  },
  {
   "cell_type": "code",
   "execution_count": 26,
   "id": "3a275a4c",
   "metadata": {},
   "outputs": [
    {
     "name": "stdout",
     "output_type": "stream",
     "text": [
      "x: L1 norm: 6.0\n",
      "x: L2 norm: 3.7416573867739413\n",
      "x: L inf norm: 3.0\n"
     ]
    }
   ],
   "source": [
    "print(f\"x: L1 norm: {np.linalg.norm(x, ord=1)}\")\n",
    "print(f\"x: L2 norm: {np.linalg.norm(x, ord=2)}\")\n",
    "print(f\"x: L inf norm: {np.linalg.norm(x, ord=np.inf)}\")"
   ]
  },
  {
   "cell_type": "markdown",
   "id": "90167dbe",
   "metadata": {},
   "source": [
    "$||y||_1 = |2| + |1| + |0| + |3| = 6$\n",
    "\n",
    "$||y||_2 = \\sqrt{(2^2 + 1^2 + 0^2 + 3^2)} = \\sqrt{13} \\approx 3.74$\n",
    "\n",
    "$||y||_\\infty = max(3, 1, 0, 2) = 3$"
   ]
  },
  {
   "cell_type": "code",
   "execution_count": 27,
   "id": "5e00e62a",
   "metadata": {},
   "outputs": [
    {
     "name": "stdout",
     "output_type": "stream",
     "text": [
      "y: L1 norm: 6.0\n",
      "y: L2 norm: 3.7416573867739413\n",
      "y: L inf norm: 3.0\n"
     ]
    }
   ],
   "source": [
    "print(f\"y: L1 norm: {np.linalg.norm(y, ord=1)}\")\n",
    "print(f\"y: L2 norm: {np.linalg.norm(y, ord=2)}\")\n",
    "print(f\"y: L inf norm: {np.linalg.norm(y, ord=np.inf)}\")"
   ]
  },
  {
   "cell_type": "markdown",
   "id": "dfec2f0a",
   "metadata": {},
   "source": [
    "$||z||_1 = |2| + |5|= 7$\n",
    "\n",
    "$||z||_2 = \\sqrt{(2^2 + 5^2)} = \\sqrt{29} \\approx 5.385$\n",
    "\n",
    "$||z||_\\infty = max(2, 5) = 5$"
   ]
  },
  {
   "cell_type": "code",
   "execution_count": 28,
   "id": "6dcf6ba4",
   "metadata": {},
   "outputs": [
    {
     "name": "stdout",
     "output_type": "stream",
     "text": [
      "z: L1 norm: 7.0\n",
      "z: L2 norm: 5.385164807134504\n",
      "z: L inf norm: 5.0\n"
     ]
    }
   ],
   "source": [
    "print(f\"z: L1 norm: {np.linalg.norm(z, ord=1)}\")\n",
    "print(f\"z: L2 norm: {np.linalg.norm(z, ord=2)}\")\n",
    "print(f\"z: L inf norm: {np.linalg.norm(z, ord=np.inf)}\")"
   ]
  },
  {
   "cell_type": "markdown",
   "id": "e62868c6",
   "metadata": {},
   "source": [
    "## Question 7. (10 pt) Use Numpy to write the code that loads hw1.csv file and print out the data matrix. Please show the code as well as the output. The file hw1.csv should be in the general data/HW1 folder."
   ]
  },
  {
   "cell_type": "code",
   "execution_count": 29,
   "id": "197128ab",
   "metadata": {},
   "outputs": [
    {
     "name": "stdout",
     "output_type": "stream",
     "text": [
      "[[1. 2. 1.]\n",
      " [2. 0. 0.]\n",
      " [2. 1. 1.]\n",
      " [1. 2. 5.]]\n"
     ]
    }
   ],
   "source": [
    "from numpy import genfromtxt\n",
    "data = genfromtxt('hw1.csv', delimiter = ',')\n",
    "print(data)"
   ]
  },
  {
   "cell_type": "code",
   "execution_count": null,
   "id": "c290e45e",
   "metadata": {},
   "outputs": [],
   "source": []
  }
 ],
 "metadata": {
  "kernelspec": {
   "display_name": "Python 3 (ipykernel)",
   "language": "python",
   "name": "python3"
  },
  "language_info": {
   "codemirror_mode": {
    "name": "ipython",
    "version": 3
   },
   "file_extension": ".py",
   "mimetype": "text/x-python",
   "name": "python",
   "nbconvert_exporter": "python",
   "pygments_lexer": "ipython3",
   "version": "3.11.5"
  }
 },
 "nbformat": 4,
 "nbformat_minor": 5
}
