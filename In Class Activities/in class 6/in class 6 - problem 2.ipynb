{
 "cells": [
  {
   "cell_type": "code",
   "execution_count": 1,
   "id": "4baed207",
   "metadata": {},
   "outputs": [],
   "source": [
    "import numpy as np\n",
    "import sys\n",
    "np.set_printoptions(precision=4)\n",
    "np.set_printoptions(threshold=30)\n",
    "np.set_printoptions(linewidth=300)\n",
    "np.set_printoptions(suppress=True)\n",
    "np.set_printoptions(threshold=sys.maxsize)"
   ]
  },
  {
   "cell_type": "code",
   "execution_count": 2,
   "id": "dc500606",
   "metadata": {},
   "outputs": [],
   "source": [
    "import numpy as np\n",
    "from numpy import genfromtxt\n",
    "import matplotlib.pyplot as plt\n",
    "from sklearn.linear_model import LinearRegression\n",
    "from sklearn.preprocessing import PolynomialFeatures\n",
    "from numpy.random import randn"
   ]
  },
  {
   "cell_type": "markdown",
   "id": "bf108a56",
   "metadata": {},
   "source": [
    "## Linear Regression in closed-form"
   ]
  },
  {
   "cell_type": "code",
   "execution_count": 3,
   "id": "59142cc3",
   "metadata": {},
   "outputs": [
    {
     "name": "stdout",
     "output_type": "stream",
     "text": [
      "300\n",
      "[[ 0.039 -1.214 -0.715 -1.09   1.495 -0.694  0.988  0.953 -1.22  -1.263]\n",
      " [ 0.281 -1.47   0.499  0.399 -1.641 -0.094 -1.763 -0.344 -0.809 -0.841]\n",
      " [ 1.346 -0.352  0.968 -1.241  1.552  1.027 -1.094  0.612 -0.559  0.454]\n",
      " [ 0.988  1.224 -0.388  0.216  0.781 -0.047  1.255 -0.306  1.258  0.879]\n",
      " [-0.892  0.828  1.319  0.519  1.095  0.302  1.22  -0.913  0.56  -1.028]\n",
      " [-1.585 -1.269  0.057  0.23   0.778 -0.142 -0.872  1.345  0.403 -0.095]\n",
      " [-0.629 -0.442 -1.344 -0.229  0.437  0.925 -0.424 -0.385  1.358 -1.166]\n",
      " [-0.555 -0.048  0.982 -0.694  1.181 -1.249 -1.78  -0.927  1.625 -0.855]\n",
      " [-1.033  0.024 -0.659  1.514 -1.014 -1.141  0.45  -0.722 -0.689  0.251]\n",
      " [-0.903 -0.511 -1.114  0.247  0.714 -0.321  0.287  1.638 -0.443 -0.689]]\n",
      "[ -0.31 -16.86   1.36  12.75   7.91  -2.75  -0.54 -11.51  -4.01   3.08]\n"
     ]
    }
   ],
   "source": [
    "X = genfromtxt('stock_prediction_data_scaled.csv', delimiter = ',')\n",
    "y = genfromtxt('stock_price.csv', delimiter = ',')\n",
    "\n",
    "print(len(X))\n",
    "print(X[:10])\n",
    "print(y[:10])"
   ]
  },
  {
   "cell_type": "code",
   "execution_count": 4,
   "id": "c15e3b94",
   "metadata": {},
   "outputs": [
    {
     "name": "stdout",
     "output_type": "stream",
     "text": [
      "[-0.0065  4.0018  0.0098 -0.0076  0.9923  2.9941  3.9916  2.9808  0.9833  1.0097]\n"
     ]
    }
   ],
   "source": [
    "ones = np.ones((300, 1))\n",
    "phi = np.hstack((X, ones))\n",
    "w = np.linalg.inv(phi.T.dot(phi)).dot(phi.T).dot(y)\n",
    "print(w[:10])"
   ]
  },
  {
   "cell_type": "code",
   "execution_count": 5,
   "id": "ab0d0d8f",
   "metadata": {},
   "outputs": [
    {
     "name": "stdout",
     "output_type": "stream",
     "text": [
      "[-0.0065  4.0018  0.0098 -0.0076  0.9923  2.9941  3.9916  2.9808  0.9833  1.0097]\n"
     ]
    }
   ],
   "source": [
    "reg = LinearRegression().fit(X, y)\n",
    "w = reg.coef_\n",
    "print(w[:10])"
   ]
  },
  {
   "cell_type": "code",
   "execution_count": 6,
   "id": "f2c1451b",
   "metadata": {},
   "outputs": [
    {
     "name": "stdout",
     "output_type": "stream",
     "text": [
      "[ -0.2761 -16.6337   1.4488  12.6085   7.846   -3.0275  -0.3889 -11.0088  -4.2517   3.4583]\n",
      "[ -0.31 -16.86   1.36  12.75   7.91  -2.75  -0.54 -11.51  -4.01   3.08]\n"
     ]
    }
   ],
   "source": [
    "pred_y = reg.predict((X))\n",
    "print(pred_y[:10])\n",
    "print(y[:10])"
   ]
  },
  {
   "cell_type": "code",
   "execution_count": 7,
   "id": "3a133860",
   "metadata": {},
   "outputs": [
    {
     "name": "stdout",
     "output_type": "stream",
     "text": [
      "Final MSE: -2.6645352591003756e-17\n",
      "[-0.0339 -0.2263 -0.0888  0.1415  0.064   0.2775 -0.1511 -0.5012  0.2417 -0.3783 -0.0991 -0.1592  0.4018  0.1436 -0.1739  0.1826 -0.0245  0.1711  0.0971 -0.1195 -0.0687  0.3125  0.0632 -0.0292  0.2684 -0.0727 -0.0571 -0.2373  0.1397 -0.3875  0.0524 -0.0982 -0.1643  0.4867 -0.0015  0.2113  0.0128\n",
      "  0.2709  0.2981 -0.1441 -0.0345 -0.471  -0.1597  0.2201  0.06   -0.1962  0.3683  0.2376 -0.0368 -0.0132]\n"
     ]
    }
   ],
   "source": [
    "differences = y - pred_y\n",
    "\n",
    "print(\"Final MSE:\", np.mean(differences))\n",
    "print(differences[:50])"
   ]
  },
  {
   "cell_type": "markdown",
   "id": "db0ae014",
   "metadata": {},
   "source": [
    "## Polynomial Regression in closed-form"
   ]
  },
  {
   "cell_type": "code",
   "execution_count": 8,
   "id": "bdb8fb3b",
   "metadata": {},
   "outputs": [],
   "source": [
    "poly = PolynomialFeatures(2)\n",
    "newX = poly.fit_transform(X)"
   ]
  },
  {
   "cell_type": "code",
   "execution_count": 9,
   "id": "4090ca72",
   "metadata": {},
   "outputs": [
    {
     "name": "stdout",
     "output_type": "stream",
     "text": [
      "[ -0.2761 -16.6337   1.4488  12.6085   7.846   -3.0275  -0.3889 -11.0088  -4.2517   3.4583]\n",
      "[ -0.31 -16.86   1.36  12.75   7.91  -2.75  -0.54 -11.51  -4.01   3.08]\n"
     ]
    }
   ],
   "source": [
    "reg2 = LinearRegression().fit(newX, y)\n",
    "pred_y2 = reg2.predict((newX))\n",
    "print(pred_y[:10])\n",
    "print(y[:10])"
   ]
  },
  {
   "cell_type": "code",
   "execution_count": 10,
   "id": "244b47b0",
   "metadata": {},
   "outputs": [
    {
     "name": "stdout",
     "output_type": "stream",
     "text": [
      "final MSE: -5.299464570877414e-16\n",
      "[ 0.0745 -0.0929 -0.2354  0.1374  0.1865  0.3491 -0.1646 -0.3639  0.124  -0.3186 -0.0994 -0.2791  0.3752  0.1843 -0.1774  0.1655 -0.0475  0.1888  0.0804 -0.0702 -0.0988  0.2868 -0.0687 -0.064   0.2702 -0.0969 -0.0751 -0.3088  0.1555 -0.2525 -0.0389  0.0373 -0.15    0.4709 -0.0141  0.2419  0.0603\n",
      "  0.222   0.1075 -0.0802 -0.0743 -0.294  -0.1975  0.287   0.0225 -0.1627  0.2873  0.243  -0.0171 -0.1056]\n"
     ]
    }
   ],
   "source": [
    "differences = y - pred_y2\n",
    "\n",
    "print(\"final MSE:\", np.mean(differences))\n",
    "print(differences[:50])"
   ]
  },
  {
   "cell_type": "markdown",
   "id": "885dd541",
   "metadata": {},
   "source": [
    "## Linear Regression with gradient descent"
   ]
  },
  {
   "cell_type": "code",
   "execution_count": 11,
   "id": "72cf8d5e",
   "metadata": {},
   "outputs": [],
   "source": [
    "lr = 0.01\n",
    "n = phi.shape[0]\n",
    "phi = X\n",
    "d = phi.shape[1]\n",
    "w = randn(d,1)\n",
    "def f(w):\n",
    "    num = 0\n",
    "    for xi, yi in zip(X,y):\n",
    "        xi = np.reshape(xi, (d,1))\n",
    "        num += (w.T.dot(xi) - yi)**2\n",
    "    return (num / n).item()"
   ]
  },
  {
   "cell_type": "code",
   "execution_count": 12,
   "id": "6985569d",
   "metadata": {},
   "outputs": [],
   "source": [
    "def f_dx(w):\n",
    "    num = 0\n",
    "    for xi, yi in zip(X,y):\n",
    "        xi = np.reshape(xi, (d,1))\n",
    "        num += (w.T.dot(xi) - yi)*(xi)\n",
    "    return (2/n) * num"
   ]
  },
  {
   "cell_type": "code",
   "execution_count": 13,
   "id": "fa23ce64",
   "metadata": {},
   "outputs": [
    {
     "name": "stdout",
     "output_type": "stream",
     "text": [
      "Best w:\n",
      "[[ 0.0049]\n",
      " [ 3.9135]\n",
      " [-0.0373]\n",
      " [ 0.0136]\n",
      " [ 0.9924]\n",
      " [ 2.966 ]\n",
      " [ 3.9179]\n",
      " [ 2.8823]\n",
      " [ 0.9707]\n",
      " [ 1.    ]]\n"
     ]
    }
   ],
   "source": [
    "f_value_list = []\n",
    "for i in range(200):\n",
    "    w = w - lr * f_dx(w)\n",
    "    f_value_list.append(f(w))\n",
    "print(\"Best w:\")\n",
    "print(w)\n"
   ]
  },
  {
   "cell_type": "code",
   "execution_count": 14,
   "id": "933a50e3",
   "metadata": {},
   "outputs": [
    {
     "data": {
      "image/png": "[encoded data removed]",
      "text/plain": [
       "<Figure size 640x480 with 1 Axes>"
      ]
     },
     "metadata": {},
     "output_type": "display_data"
    }
   ],
   "source": [
    "plt.plot(f_value_list)\n",
    "plt.title('MSE over GD')\n",
    "plt.xlabel('steps')\n",
    "plt.ylabel('MSE')\n",
    "plt.show() "
   ]
  },
  {
   "cell_type": "code",
   "execution_count": 15,
   "id": "95402b71",
   "metadata": {},
   "outputs": [
    {
     "name": "stdout",
     "output_type": "stream",
     "text": [
      "0.8172368289958711\n"
     ]
    }
   ],
   "source": [
    "print(f_value_list[199])"
   ]
  },
  {
   "cell_type": "markdown",
   "id": "3f6bae12",
   "metadata": {},
   "source": [
    "## Polynomial Regression with gradient descent"
   ]
  },
  {
   "cell_type": "code",
   "execution_count": 16,
   "id": "31721f83",
   "metadata": {},
   "outputs": [],
   "source": [
    "lr = 0.001\n",
    "\n",
    "poly = PolynomialFeatures(2)\n",
    "phi = poly.fit_transform(X)\n",
    "n = phi.shape[0]\n",
    "d = phi.shape[1]\n",
    "w = randn(d,1)"
   ]
  },
  {
   "cell_type": "code",
   "execution_count": 17,
   "id": "cf48530b",
   "metadata": {},
   "outputs": [],
   "source": [
    "def f(w):\n",
    "    num = 0\n",
    "    for xi, yi in zip(phi,y):\n",
    "        xi = np.reshape(xi, (d,1))\n",
    "        num += (w.T.dot(xi) - yi)**2\n",
    "    return (num / n).item()"
   ]
  },
  {
   "cell_type": "code",
   "execution_count": 18,
   "id": "e8c114a9",
   "metadata": {},
   "outputs": [],
   "source": [
    "def f_dx(w):\n",
    "    num = 0\n",
    "    for xi, yi in zip(phi,y):\n",
    "        xi = np.reshape(xi, (d,1))\n",
    "        num += (w.T.dot(xi) - yi)*(xi)\n",
    "    return (2/n) * num"
   ]
  },
  {
   "cell_type": "code",
   "execution_count": 19,
   "id": "37955e85",
   "metadata": {},
   "outputs": [
    {
     "name": "stdout",
     "output_type": "stream",
     "text": [
      "Best w:\n",
      "[[ 0.7797]\n",
      " [ 0.1164]\n",
      " [ 3.8753]\n",
      " [-0.0115]\n",
      " [ 0.0046]\n",
      " [ 0.9388]\n",
      " [ 2.9119]\n",
      " [ 4.0373]\n",
      " [ 2.9664]\n",
      " [ 0.8358]\n",
      " [ 0.8852]\n",
      " [ 0.1949]\n",
      " [-0.1111]\n",
      " [ 0.0183]\n",
      " [-0.067 ]\n",
      " [-0.0073]\n",
      " [-0.0546]\n",
      " [ 0.1359]\n",
      " [-0.0628]\n",
      " [-0.0712]\n",
      " [ 0.025 ]\n",
      " [ 0.0774]\n",
      " [-0.0494]\n",
      " [-0.0671]\n",
      " [ 0.0775]\n",
      " [ 0.0351]\n",
      " [-0.039 ]\n",
      " [-0.0053]\n",
      " [ 0.0199]\n",
      " [ 0.1802]\n",
      " [ 0.0702]\n",
      " [ 0.1146]\n",
      " [ 0.1067]\n",
      " [ 0.078 ]\n",
      " [-0.0499]\n",
      " [-0.0328]\n",
      " [ 0.1309]\n",
      " [ 0.1743]\n",
      " [-0.0155]\n",
      " [ 0.1192]\n",
      " [-0.0374]\n",
      " [-0.1205]\n",
      " [-0.006 ]\n",
      " [ 0.0159]\n",
      " [-0.0705]\n",
      " [-0.0414]\n",
      " [ 0.0021]\n",
      " [-0.1231]\n",
      " [-0.0869]\n",
      " [ 0.1456]\n",
      " [-0.0029]\n",
      " [-0.036 ]\n",
      " [-0.0374]\n",
      " [ 0.0286]\n",
      " [-0.0239]\n",
      " [-0.0907]\n",
      " [-0.0015]\n",
      " [ 0.0585]\n",
      " [-0.113 ]\n",
      " [ 0.0077]\n",
      " [ 0.0331]\n",
      " [ 0.1879]\n",
      " [ 0.1013]\n",
      " [-0.1538]\n",
      " [-0.0643]\n",
      " [-0.007 ]]\n"
     ]
    }
   ],
   "source": [
    "mse_list = []\n",
    "for i in range(2500):\n",
    "    w = w - lr * f_dx(w)\n",
    "    mse_list.append(f(w))\n",
    "print(\"Best w:\")\n",
    "print(w)\n"
   ]
  },
  {
   "cell_type": "code",
   "execution_count": 20,
   "id": "61146d37",
   "metadata": {},
   "outputs": [
    {
     "data": {
      "image/png": "[encoded data removed]",
      "text/plain": [
       "<Figure size 640x480 with 1 Axes>"
      ]
     },
     "metadata": {},
     "output_type": "display_data"
    }
   ],
   "source": [
    "plt.plot(mse_list)\n",
    "plt.title('MSE over GD')\n",
    "plt.xlabel('steps')\n",
    "plt.ylabel('MSE')\n",
    "plt.show() "
   ]
  },
  {
   "cell_type": "code",
   "execution_count": 21,
   "id": "c1a60175",
   "metadata": {},
   "outputs": [
    {
     "name": "stdout",
     "output_type": "stream",
     "text": [
      "0.22932602825636783\n"
     ]
    }
   ],
   "source": [
    "print(mse_list[2499])"
   ]
  },
  {
   "cell_type": "code",
   "execution_count": null,
   "id": "14e1496f",
   "metadata": {},
   "outputs": [],
   "source": []
  }
 ],
 "metadata": {
  "kernelspec": {
   "display_name": "Python 3 (ipykernel)",
   "language": "python",
   "name": "python3"
  },
  "language_info": {
   "codemirror_mode": {
    "name": "ipython",
    "version": 3
   },
   "file_extension": ".py",
   "mimetype": "text/x-python",
   "name": "python",
   "nbconvert_exporter": "python",
   "pygments_lexer": "ipython3",
   "version": "3.11.5"
  }
 },
 "nbformat": 4,
 "nbformat_minor": 5
}
