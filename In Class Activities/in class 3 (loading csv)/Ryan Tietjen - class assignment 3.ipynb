{
 "cells": [
  {
   "cell_type": "code",
   "execution_count": 1,
   "id": "a9ee9030",
   "metadata": {},
   "outputs": [],
   "source": [
    "import numpy as np\n",
    "from numpy import genfromtxt\n",
    "from numpy import array\n",
    "from numpy import trace"
   ]
  },
  {
   "cell_type": "code",
   "execution_count": 2,
   "id": "646746c7",
   "metadata": {},
   "outputs": [
    {
     "name": "stdout",
     "output_type": "stream",
     "text": [
      "A:\n",
      "[[0. 1. 2.]\n",
      " [2. 1. 0.]\n",
      " [1. 2. 2.]\n",
      " [1. 0. 0.]\n",
      " [0. 2. 1.]\n",
      " [0. 0. 0.]]\n",
      "\n",
      "B:\n",
      "[[0. 2. 1.]\n",
      " [1. 2. 2.]\n",
      " [2. 2. 0.]\n",
      " [2. 2. 0.]\n",
      " [0. 2. 1.]\n",
      " [0. 1. 1.]]\n",
      "\n",
      "C:\n",
      "[[2. 1. 0. 1. 1.]\n",
      " [2. 1. 1. 0. 2.]\n",
      " [2. 0. 1. 2. 2.]\n",
      " [2. 0. 2. 1. 0.]\n",
      " [0. 0. 2. 1. 0.]\n",
      " [0. 0. 2. 1. 1.]]\n",
      "\n",
      "x:\n",
      "[[1.]\n",
      " [0.]\n",
      " [0.]\n",
      " [2.]\n",
      " [0.]]\n",
      "\n"
     ]
    }
   ],
   "source": [
    "A = genfromtxt('test_A.csv', delimiter = ',')\n",
    "B = genfromtxt('test_B.csv', delimiter = ',')\n",
    "C = genfromtxt('test_C.csv', delimiter = ',')\n",
    "\n",
    "x = genfromtxt('test_x.csv', delimiter = ',')\n",
    "x = x.reshape((x.size, 1)) \n",
    "y = genfromtxt('test_y.csv', delimiter = ',')\n",
    "y = y.reshape((y.size, 1))\n",
    "z = genfromtxt('test_z.csv', delimiter = ',')\n",
    "z = z.reshape((z.size, 1))\n",
    "\n",
    "print(f\"A:\\n{A}\\n\")\n",
    "print(f\"B:\\n{B}\\n\")\n",
    "print(f\"C:\\n{C}\\n\")\n",
    "print(f\"x:\\n{x}\\n\")"
   ]
  },
  {
   "cell_type": "code",
   "execution_count": 3,
   "id": "d31f9396",
   "metadata": {},
   "outputs": [
    {
     "name": "stdout",
     "output_type": "stream",
     "text": [
      "[[ 62.]\n",
      " [ 82.]\n",
      " [122.]\n",
      " [ 22.]\n",
      " [ 88.]\n",
      " [  0.]]\n"
     ]
    }
   ],
   "source": [
    "print(A.dot(B.T).dot(C).dot(x))"
   ]
  },
  {
   "cell_type": "code",
   "execution_count": 4,
   "id": "98816b17",
   "metadata": {},
   "outputs": [
    {
     "name": "stdout",
     "output_type": "stream",
     "text": [
      "25.0\n"
     ]
    }
   ],
   "source": [
    "#1\n",
    "print(trace(A.dot(A.T)))"
   ]
  },
  {
   "cell_type": "code",
   "execution_count": 5,
   "id": "ad97d8e8",
   "metadata": {},
   "outputs": [
    {
     "name": "stdout",
     "output_type": "stream",
     "text": [
      "[[0. 2. 2.]\n",
      " [2. 2. 0.]\n",
      " [2. 4. 0.]\n",
      " [2. 0. 0.]\n",
      " [0. 4. 1.]\n",
      " [0. 0. 0.]]\n"
     ]
    }
   ],
   "source": [
    "#2\n",
    "print(A*B)"
   ]
  },
  {
   "cell_type": "code",
   "execution_count": 6,
   "id": "1127b2f6",
   "metadata": {},
   "outputs": [
    {
     "name": "stdout",
     "output_type": "stream",
     "text": [
      "2.0\n"
     ]
    }
   ],
   "source": [
    "#3\n",
    "print(trace(x.dot(y.T)))"
   ]
  },
  {
   "cell_type": "code",
   "execution_count": 7,
   "id": "64bece2c",
   "metadata": {},
   "outputs": [
    {
     "name": "stdout",
     "output_type": "stream",
     "text": [
      "[[4. 6. 2. 2. 4. 3.]\n",
      " [2. 4. 6. 6. 2. 1.]\n",
      " [6. 9. 6. 6. 6. 4.]\n",
      " [0. 1. 2. 2. 0. 0.]\n",
      " [5. 6. 4. 4. 5. 3.]\n",
      " [0. 0. 0. 0. 0. 0.]]\n"
     ]
    }
   ],
   "source": [
    "#4\n",
    "print(A.dot(B.T))"
   ]
  },
  {
   "cell_type": "code",
   "execution_count": 8,
   "id": "357836ae",
   "metadata": {},
   "outputs": [
    {
     "name": "stdout",
     "output_type": "stream",
     "text": [
      "[[ 62.]\n",
      " [ 82.]\n",
      " [122.]\n",
      " [ 22.]\n",
      " [ 88.]\n",
      " [  0.]]\n"
     ]
    }
   ],
   "source": [
    "#5\n",
    "print(A.dot(B.T).dot(C).dot(x))"
   ]
  },
  {
   "cell_type": "code",
   "execution_count": 9,
   "id": "0e10d2a7",
   "metadata": {},
   "outputs": [
    {
     "name": "stdout",
     "output_type": "stream",
     "text": [
      "[[ 7.]\n",
      " [ 8.]\n",
      " [14.]\n",
      " [ 9.]\n",
      " [ 7.]\n",
      " [ 9.]]\n"
     ]
    }
   ],
   "source": [
    "#6\n",
    "print(C.dot(x+y))"
   ]
  },
  {
   "cell_type": "code",
   "execution_count": 10,
   "id": "571a991c",
   "metadata": {},
   "outputs": [
    {
     "name": "stdout",
     "output_type": "stream",
     "text": [
      "L0: 2.0\n",
      "L1: 3.0\n",
      "L2: 2.23606797749979\n",
      "L inf: 2.0\n"
     ]
    }
   ],
   "source": [
    "#7\n",
    "x_original = x.reshape(x.size) \n",
    "y_original = y.reshape(y.size)\n",
    "z_original = z.reshape(z.size)\n",
    "print(f\"L0: {np.linalg.norm(x_original, ord=0)}\")\n",
    "print(f\"L1: {np.linalg.norm(x_original, ord=1)}\")\n",
    "print(f\"L2: {np.linalg.norm(x_original, ord=2)}\")\n",
    "print(f\"L inf: {np.linalg.norm(x_original, ord=np.inf)}\")"
   ]
  },
  {
   "cell_type": "code",
   "execution_count": 11,
   "id": "01dd20b1",
   "metadata": {},
   "outputs": [
    {
     "name": "stdout",
     "output_type": "stream",
     "text": [
      "L0: 3.0\n",
      "L1: 5.0\n",
      "L2: 3.0\n",
      "L inf: 2.0\n"
     ]
    }
   ],
   "source": [
    "#8\n",
    "print(f\"L0: {np.linalg.norm(y_original, ord=0)}\")\n",
    "print(f\"L1: {np.linalg.norm(y_original, ord=1)}\")\n",
    "print(f\"L2: {np.linalg.norm(y_original, ord=2)}\")\n",
    "print(f\"L inf: {np.linalg.norm(y_original, ord=np.inf)}\")"
   ]
  },
  {
   "cell_type": "code",
   "execution_count": 12,
   "id": "340ebe70",
   "metadata": {},
   "outputs": [
    {
     "name": "stdout",
     "output_type": "stream",
     "text": [
      "L0: 2.0\n",
      "L1: 3.0\n",
      "L2: 2.23606797749979\n",
      "L inf: 2.0\n"
     ]
    }
   ],
   "source": [
    "#9\n",
    "print(f\"L0: {np.linalg.norm(z_original, ord=0)}\")\n",
    "print(f\"L1: {np.linalg.norm(z_original, ord=1)}\")\n",
    "print(f\"L2: {np.linalg.norm(z_original, ord=2)}\")\n",
    "print(f\"L inf: {np.linalg.norm(z_original, ord=np.inf)}\")"
   ]
  },
  {
   "cell_type": "code",
   "execution_count": null,
   "id": "af16407a",
   "metadata": {},
   "outputs": [],
   "source": []
  }
 ],
 "metadata": {
  "kernelspec": {
   "display_name": "Python 3 (ipykernel)",
   "language": "python",
   "name": "python3"
  },
  "language_info": {
   "codemirror_mode": {
    "name": "ipython",
    "version": 3
   },
   "file_extension": ".py",
   "mimetype": "text/x-python",
   "name": "python",
   "nbconvert_exporter": "python",
   "pygments_lexer": "ipython3",
   "version": "3.11.5"
  }
 },
 "nbformat": 4,
 "nbformat_minor": 5
}
