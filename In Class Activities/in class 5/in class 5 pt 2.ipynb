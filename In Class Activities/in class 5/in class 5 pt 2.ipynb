{
 "cells": [
  {
   "cell_type": "code",
   "execution_count": 1,
   "id": "1e9e3052",
   "metadata": {},
   "outputs": [],
   "source": [
    "import numpy as np\n",
    "from numpy import zeros"
   ]
  },
  {
   "cell_type": "code",
   "execution_count": 2,
   "id": "1de65e13",
   "metadata": {},
   "outputs": [],
   "source": [
    "phi = np.array([[1,1],\n",
    "             [2,1],\n",
    "             [2,1],\n",
    "             [3,1]])\n",
    "n = phi.shape[0]\n",
    "y = np.array([[1],\n",
    "             [1],\n",
    "             [2],\n",
    "             [2]])\n",
    "w = np.array([[2], [2]])\n",
    "lr = 0.1"
   ]
  },
  {
   "cell_type": "code",
   "execution_count": 3,
   "id": "992eea13",
   "metadata": {},
   "outputs": [],
   "source": [
    "def f(w):\n",
    "    num = 0\n",
    "    for phii, yi in zip(phi, y):\n",
    "        phii = np.reshape(phii, (2,1))\n",
    "        num += (w.T.dot(phii) - yi)**2\n",
    "    return (num / n).item()"
   ]
  },
  {
   "cell_type": "code",
   "execution_count": 4,
   "id": "bac073a8",
   "metadata": {},
   "outputs": [],
   "source": [
    "def f_dx(w):\n",
    "    num = np.zeros((2,1))\n",
    "    for phii, yi in zip(phi,y):\n",
    "        phii = np.reshape(phii, (2,1))\n",
    "        num += (w.T.dot(phii) - yi)*(phii)\n",
    "    return (2/n) * num"
   ]
  },
  {
   "cell_type": "code",
   "execution_count": 5,
   "id": "8f6e7e86",
   "metadata": {},
   "outputs": [],
   "source": [
    "f_value_list = []\n",
    "for i in range(400):\n",
    "    w = w - lr * f_dx(w)\n",
    "    f_value_list.append(f(w))"
   ]
  },
  {
   "cell_type": "code",
   "execution_count": 6,
   "id": "c072e768",
   "metadata": {},
   "outputs": [
    {
     "name": "stdout",
     "output_type": "stream",
     "text": [
      "Best w = \n",
      " [[0.49982364]\n",
      " [0.50038866]]\n"
     ]
    }
   ],
   "source": [
    "print('Best w = \\n', w)"
   ]
  },
  {
   "cell_type": "code",
   "execution_count": null,
   "id": "e80a15ae",
   "metadata": {},
   "outputs": [],
   "source": []
  }
 ],
 "metadata": {
  "kernelspec": {
   "display_name": "Python 3 (ipykernel)",
   "language": "python",
   "name": "python3"
  },
  "language_info": {
   "codemirror_mode": {
    "name": "ipython",
    "version": 3
   },
   "file_extension": ".py",
   "mimetype": "text/x-python",
   "name": "python",
   "nbconvert_exporter": "python",
   "pygments_lexer": "ipython3",
   "version": "3.11.5"
  }
 },
 "nbformat": 4,
 "nbformat_minor": 5
}
