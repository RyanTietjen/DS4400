{
 "cells": [
  {
   "cell_type": "code",
   "execution_count": 1,
   "id": "27acaed5",
   "metadata": {},
   "outputs": [],
   "source": [
    "import autograd.numpy as np\n",
    "from autograd import grad"
   ]
  },
  {
   "cell_type": "code",
   "execution_count": 2,
   "id": "c1c2d1b4",
   "metadata": {},
   "outputs": [
    {
     "name": "stdout",
     "output_type": "stream",
     "text": [
      "Auto gradient:\n",
      " [[3.]\n",
      " [6.]]\n",
      "Theoretical gradient:\n",
      " [[3]\n",
      " [6]]\n",
      "Auto gradient:\n",
      " [[3.]\n",
      " [6.]]\n",
      "Theoretical gradient:\n",
      " [[3]\n",
      " [6]]\n",
      "Auto gradient:\n",
      " [[3.]\n",
      " [6.]]\n",
      "Theoretical gradient:\n",
      " [[3]\n",
      " [6]]\n"
     ]
    }
   ],
   "source": [
    "def f_one(x, y, one):\n",
    "    return np.dot(np.transpose(y), x) + np.dot(np.transpose(x), one)\n",
    "\n",
    "def dx_f_one(x, y, one):\n",
    "    return y + one\n",
    "\n",
    "auto_grad = grad(f_one)\n",
    "\n",
    "y = np.array([[2],[5]])\n",
    "one = np.array([[1],[1]])\n",
    "\n",
    "for i in range(3):\n",
    "    x = np.random.random((2,1))\n",
    "    print(\"Auto gradient:\\n\",auto_grad(x, y, one))\n",
    "    print(\"Theoretical gradient:\\n\", dx_f_one(x, y, one))\n"
   ]
  },
  {
   "cell_type": "code",
   "execution_count": 3,
   "id": "acddfa15",
   "metadata": {},
   "outputs": [
    {
     "name": "stdout",
     "output_type": "stream",
     "text": [
      "Auto gradient:\n",
      " [[1.993571  ]\n",
      " [1.08290876]]\n",
      "Theoretical gradient:\n",
      " [[1.993571  ]\n",
      " [1.08290876]]\n",
      "Auto gradient:\n",
      " [[4.9682638 ]\n",
      " [3.35565243]]\n",
      "Theoretical gradient:\n",
      " [[4.9682638 ]\n",
      " [3.35565243]]\n",
      "Auto gradient:\n",
      " [[5.20182848]\n",
      " [3.43952869]]\n",
      "Theoretical gradient:\n",
      " [[5.20182848]\n",
      " [3.43952869]]\n"
     ]
    }
   ],
   "source": [
    "def f_two(x, A):\n",
    "    return np.dot(np.dot(np.transpose(x), A), x)\n",
    "\n",
    "def dx_f_two(x, A):\n",
    "    return np.dot(2*A, x)\n",
    "\n",
    "auto_grad = grad(f_two)\n",
    "\n",
    "A = np.array([[2, 1],[1, 1]])\n",
    "\n",
    "for i in range(3):\n",
    "    x = np.random.random((2,1))\n",
    "    print(\"Auto gradient:\\n\",auto_grad(x, A))\n",
    "    print(\"Theoretical gradient:\\n\", dx_f_two(x, A))\n"
   ]
  },
  {
   "cell_type": "code",
   "execution_count": 4,
   "id": "720058d1",
   "metadata": {},
   "outputs": [
    {
     "name": "stdout",
     "output_type": "stream",
     "text": [
      "Auto gradient:\n",
      " [[4.33932044]\n",
      " [4.12037077]]\n",
      "Theoretical gradient:\n",
      " [[4.33932044]\n",
      " [4.12037077]]\n",
      "Auto gradient:\n",
      " [[8.38420141]\n",
      " [1.19304005]]\n",
      "Theoretical gradient:\n",
      " [[8.38420141]\n",
      " [1.19304005]]\n",
      "Auto gradient:\n",
      " [[201.77558816]\n",
      " [ 32.62460935]]\n",
      "Theoretical gradient:\n",
      " [[201.77558816]\n",
      " [ 32.62460935]]\n"
     ]
    }
   ],
   "source": [
    "def f_three(x, A):\n",
    "    return np.exp(np.dot(np.dot(np.transpose(x), A), x))\n",
    "\n",
    "def dx_f_three(x, A):\n",
    "    return (np.exp(np.dot(np.dot(np.transpose(x), A), x)) * np.dot((np.transpose(A) + A), x))\n",
    "    \n",
    "\n",
    "auto_grad = grad(f_three)\n",
    "\n",
    "A = np.array([[4, 0],[1, 1]])\n",
    "\n",
    "for i in range(3):\n",
    "    x = np.random.random((2,1))\n",
    "    print(\"Auto gradient:\\n\",auto_grad(x, A))\n",
    "    print(\"Theoretical gradient:\\n\", dx_f_three(x, A))\n"
   ]
  },
  {
   "cell_type": "code",
   "execution_count": 5,
   "id": "fadd6220",
   "metadata": {},
   "outputs": [
    {
     "name": "stdout",
     "output_type": "stream",
     "text": [
      "Auto gradient:\n",
      " [[0.00066767]\n",
      " [0.00076305]]\n",
      "Theoretical gradient:\n",
      " [[0.00066767]\n",
      " [0.00076305]]\n",
      "Auto gradient:\n",
      " [[0.00026719]\n",
      " [0.00030536]]\n",
      "Theoretical gradient:\n",
      " [[0.00026719]\n",
      " [0.00030536]]\n",
      "Auto gradient:\n",
      " [[0.00401289]\n",
      " [0.00458617]]\n",
      "Theoretical gradient:\n",
      " [[0.00401289]\n",
      " [0.00458617]]\n"
     ]
    }
   ],
   "source": [
    "def f_four(x, w):\n",
    "    return 1/(1+np.exp(-np.dot(np.transpose(w),x)))\n",
    "    \n",
    "\n",
    "def dx_f_four(x, w):\n",
    "    temp = np.exp(np.dot(np.transpose(w), x)) \n",
    "    numer = temp\n",
    "    denom = (1 + temp)**2\n",
    "    return (numer / denom) * w\n",
    "    \n",
    "auto_grad = grad(f_four)\n",
    "\n",
    "w = np.array([[7],[8]])\n",
    "\n",
    "\n",
    "for i in range(3):\n",
    "    x = np.random.random((2,1))\n",
    "    print(\"Auto gradient:\\n\",auto_grad(x, w))\n",
    "    print(\"Theoretical gradient:\\n\", dx_f_four(x, w))\n"
   ]
  },
  {
   "cell_type": "code",
   "execution_count": null,
   "id": "22c38493",
   "metadata": {},
   "outputs": [],
   "source": []
  }
 ],
 "metadata": {
  "kernelspec": {
   "display_name": "Python 3 (ipykernel)",
   "language": "python",
   "name": "python3"
  },
  "language_info": {
   "codemirror_mode": {
    "name": "ipython",
    "version": 3
   },
   "file_extension": ".py",
   "mimetype": "text/x-python",
   "name": "python",
   "nbconvert_exporter": "python",
   "pygments_lexer": "ipython3",
   "version": "3.11.5"
  }
 },
 "nbformat": 4,
 "nbformat_minor": 5
}
