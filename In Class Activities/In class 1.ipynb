{
 "cells": [
  {
   "cell_type": "code",
   "execution_count": 3,
   "id": "f139b218",
   "metadata": {},
   "outputs": [],
   "source": [
    "import numpy as np\n",
    "from numpy import array\n",
    "from numpy import trace"
   ]
  },
  {
   "cell_type": "code",
   "execution_count": 17,
   "id": "a944adc2",
   "metadata": {},
   "outputs": [
    {
     "name": "stdout",
     "output_type": "stream",
     "text": [
      "x:\n",
      "[[2]\n",
      " [6]]\n",
      "\n",
      "y:\n",
      "[[1]\n",
      " [0]]\n",
      "\n",
      "X:\n",
      "[[7 5]\n",
      " [3 6]]\n",
      "\n",
      "Y:\n",
      "[[2 4]\n",
      " [1 0]]\n",
      "\n",
      "Z:\n",
      "[[ 4 -1  0]\n",
      " [ 1  1  1]]\n",
      "\n"
     ]
    }
   ],
   "source": [
    "x = np.array([[2],[6]])\n",
    "print(f\"x:\\n{x}\\n\")\n",
    "\n",
    "y = np.array([[1],[0]])\n",
    "print(f\"y:\\n{y}\\n\")\n",
    "\n",
    "X = np.array([[7,5],[3,6]])\n",
    "print(f\"X:\\n{X}\\n\")\n",
    "\n",
    "Y = np.array([[2,4],[1,0]])\n",
    "print(f\"Y:\\n{Y}\\n\")\n",
    "\n",
    "Z = np.array([[4, -1, 0],[1,1,1]])\n",
    "print(f\"Z:\\n{Z}\\n\")"
   ]
  },
  {
   "cell_type": "code",
   "execution_count": 38,
   "id": "e04583c8",
   "metadata": {},
   "outputs": [
    {
     "data": {
      "text/plain": [
       "array([[42]])"
      ]
     },
     "execution_count": 38,
     "metadata": {},
     "output_type": "execute_result"
    }
   ],
   "source": [
    "#1\n",
    "\n",
    "trace(x.dot(x.T)) + x.T.dot(y)"
   ]
  },
  {
   "cell_type": "code",
   "execution_count": 44,
   "id": "58336d03",
   "metadata": {},
   "outputs": [
    {
     "data": {
      "text/plain": [
       "array([[2, 0],\n",
       "       [6, 0]])"
      ]
     },
     "execution_count": 44,
     "metadata": {},
     "output_type": "execute_result"
    }
   ],
   "source": [
    "#2\n",
    "#x.dot(y.T)\n",
    "np.outer(x, y)"
   ]
  },
  {
   "cell_type": "code",
   "execution_count": 42,
   "id": "ffe29f9a",
   "metadata": {},
   "outputs": [
    {
     "data": {
      "text/plain": [
       "array([[14, 20],\n",
       "       [ 3,  0]])"
      ]
     },
     "execution_count": 42,
     "metadata": {},
     "output_type": "execute_result"
    }
   ],
   "source": [
    "#3\n",
    "Y*X"
   ]
  },
  {
   "cell_type": "code",
   "execution_count": 26,
   "id": "626a464d",
   "metadata": {},
   "outputs": [
    {
     "data": {
      "text/plain": [
       "array([[35, 46],\n",
       "       [24, 32]])"
      ]
     },
     "execution_count": 26,
     "metadata": {},
     "output_type": "execute_result"
    }
   ],
   "source": [
    "#4\n",
    "2*X + 2*Y + X.T.dot(Y)"
   ]
  },
  {
   "cell_type": "code",
   "execution_count": 45,
   "id": "5e5ee814",
   "metadata": {},
   "outputs": [
    {
     "data": {
      "text/plain": [
       "21"
      ]
     },
     "execution_count": 45,
     "metadata": {},
     "output_type": "execute_result"
    }
   ],
   "source": [
    "#5\n",
    "trace(Y.dot(Y.T))"
   ]
  },
  {
   "cell_type": "code",
   "execution_count": 28,
   "id": "3969b854",
   "metadata": {},
   "outputs": [
    {
     "data": {
      "text/plain": [
       "array([[52],\n",
       "       [24]])"
      ]
     },
     "execution_count": 28,
     "metadata": {},
     "output_type": "execute_result"
    }
   ],
   "source": [
    "#6\n",
    "Z.dot(Z.T).dot(x)"
   ]
  },
  {
   "cell_type": "code",
   "execution_count": null,
   "id": "58b2f466",
   "metadata": {},
   "outputs": [],
   "source": []
  }
 ],
 "metadata": {
  "kernelspec": {
   "display_name": "Python 3 (ipykernel)",
   "language": "python",
   "name": "python3"
  },
  "language_info": {
   "codemirror_mode": {
    "name": "ipython",
    "version": 3
   },
   "file_extension": ".py",
   "mimetype": "text/x-python",
   "name": "python",
   "nbconvert_exporter": "python",
   "pygments_lexer": "ipython3",
   "version": "3.11.5"
  }
 },
 "nbformat": 4,
 "nbformat_minor": 5
}
